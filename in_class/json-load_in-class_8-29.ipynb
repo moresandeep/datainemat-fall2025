{
 "cells": [
  {
   "cell_type": "code",
   "execution_count": 1,
   "id": "6d8b01c1-7e74-4aa6-979d-d826d2ac0958",
   "metadata": {},
   "outputs": [],
   "source": [
    "import json as js"
   ]
  },
  {
   "cell_type": "code",
   "execution_count": 2,
   "id": "269c3a3c-eb80-4bbc-b933-7b08716f47a3",
   "metadata": {},
   "outputs": [],
   "source": [
    "path = r\"/Users/srmore/Downloads/instagram-moresandeep-2025-08-25-5n1mOh2n/ads_information/instagram_ads_and_businesses/advertisers_using_your_activity_or_information.json\"\n",
    "\n",
    "with open(path) as op:\n",
    "    data = js.load(op)"
   ]
  },
  {
   "cell_type": "code",
   "execution_count": 3,
   "id": "b76ee128-3fdf-43f7-9943-56a74b94ce46",
   "metadata": {},
   "outputs": [
    {
     "data": {
      "text/plain": [
       "dict"
      ]
     },
     "execution_count": 3,
     "metadata": {},
     "output_type": "execute_result"
    }
   ],
   "source": [
    "type(data)  # dict"
   ]
  },
  {
   "cell_type": "code",
   "execution_count": 4,
   "id": "4311ee72-1034-4056-8c56-5e33408207ad",
   "metadata": {},
   "outputs": [
    {
     "data": {
      "text/plain": [
       "dict_keys(['ig_custom_audiences_all_types'])"
      ]
     },
     "execution_count": 4,
     "metadata": {},
     "output_type": "execute_result"
    }
   ],
   "source": [
    "data.keys()"
   ]
  },
  {
   "cell_type": "code",
   "execution_count": 6,
   "id": "c82a28bc-38aa-406b-ba2c-c82f81481b01",
   "metadata": {},
   "outputs": [
    {
     "name": "stdout",
     "output_type": "stream",
     "text": [
      "[\n",
      "  {\n",
      "    \"advertiser_name\": \"Oracle Data Cloud\",\n",
      "    \"has_data_file_custom_audience\": true,\n",
      "    \"has_remarketing_custom_audience\": false,\n",
      "    \"has_in_person_store_visit\": false\n",
      "  },\n",
      "  {\n",
      "    \"advertiser_name\": \"American Home Shield\",\n",
      "    \"has_data_file_custom_audience\": true,\n",
      "    \"has_remarketing_custom_audience\": false,\n",
      "    \"has_in_person_store_visit\": false\n",
      "  },\n",
      "  {\n",
      "    \"advertiser_name\": \"Netbhet\",\n",
      "    \"has_data_file_custom_audience\": true,\n",
      "    \"has_remarketing_custom_audience\": false,\n",
      "    \"has_in_person_store_visit\": false\n",
      "  }\n",
      "]\n"
     ]
    }
   ],
   "source": [
    "first_three = data[\"ig_custom_audiences_all_types\"][:3]\n",
    "print(js.dumps(first_three, indent=2))"
   ]
  },
  {
   "cell_type": "code",
   "execution_count": null,
   "id": "bb79d00e-e481-45f5-89dd-dfa38735dc17",
   "metadata": {},
   "outputs": [],
   "source": []
  }
 ],
 "metadata": {
  "kernelspec": {
   "display_name": "Python 3 (ipykernel)",
   "language": "python",
   "name": "python3"
  },
  "language_info": {
   "codemirror_mode": {
    "name": "ipython",
    "version": 3
   },
   "file_extension": ".py",
   "mimetype": "text/x-python",
   "name": "python",
   "nbconvert_exporter": "python",
   "pygments_lexer": "ipython3",
   "version": "3.12.11"
  }
 },
 "nbformat": 4,
 "nbformat_minor": 5
}
