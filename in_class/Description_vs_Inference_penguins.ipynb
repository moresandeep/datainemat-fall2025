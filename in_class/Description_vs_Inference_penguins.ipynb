{
 "cells": [
  {
   "cell_type": "markdown",
   "id": "5808b144",
   "metadata": {},
   "source": [
    "\n",
    "# Description vs. Inference\n",
    "\n",
    "We’ll practice moving from *describing* variables to *inferring* relationships and fitting simple models—this time with penguins library.\n",
    "\n"
   ]
  },
  {
   "cell_type": "markdown",
   "id": "a0ed4e70",
   "metadata": {},
   "source": [
    "\n",
    "## Setup\n"
   ]
  },
  {
   "cell_type": "code",
   "execution_count": 1,
   "id": "519ac61d-bdb0-4288-8bba-4042657b229e",
   "metadata": {},
   "outputs": [
    {
     "name": "stdout",
     "output_type": "stream",
     "text": [
      "/Users/smore/miniconda3/lib/python3.12/site-packages/conda/base/context.py:201: FutureWarning: Adding 'defaults' to channel list implicitly is deprecated and will be removed in 25.3. \n",
      "\n",
      "To remove this warning, please choose a default channel explicitly with conda's regular configuration system, e.g. by adding 'defaults' to the list of channels:\n",
      "\n",
      "  conda config --add channels defaults\n",
      "\n",
      "For more information see https://docs.conda.io/projects/conda/en/stable/user-guide/configuration/use-condarc.html\n",
      "\n",
      "  deprecated.topic(\n",
      "/Users/smore/miniconda3/lib/python3.12/site-packages/conda/base/context.py:201: FutureWarning: Adding 'defaults' to channel list implicitly is deprecated and will be removed in 25.3. \n",
      "\n",
      "To remove this warning, please choose a default channel explicitly with conda's regular configuration system, e.g. by adding 'defaults' to the list of channels:\n",
      "\n",
      "  conda config --add channels defaults\n",
      "\n",
      "For more information see https://docs.conda.io/projects/conda/en/stable/user-guide/configuration/use-condarc.html\n",
      "\n",
      "  deprecated.topic(\n",
      "Channels:\n",
      " - defaults\n",
      "Platform: osx-arm64\n",
      "Collecting package metadata (repodata.json): done\n",
      "Solving environment: done\n",
      "\n",
      "## Package Plan ##\n",
      "\n",
      "  environment location: /Users/smore/miniconda3/envs/emat\n",
      "\n",
      "  added / updated specs:\n",
      "    - scipy\n",
      "\n",
      "\n",
      "The following packages will be downloaded:\n",
      "\n",
      "    package                    |            build\n",
      "    ---------------------------|-----------------\n",
      "    libopenblas-0.3.30         |       hf2bb037_0         4.1 MB\n",
      "    scipy-1.16.2               |  py312h53ebd84_0        20.3 MB\n",
      "    ------------------------------------------------------------\n",
      "                                           Total:        24.4 MB\n",
      "\n",
      "The following packages will be UPDATED:\n",
      "\n",
      "  libopenblas                             0.3.29-hea593b9_0 --> 0.3.30-hf2bb037_0 \n",
      "  scipy                              1.16.0-py312h224531d_1 --> 1.16.2-py312h53ebd84_0 \n",
      "\n",
      "\n",
      "\n",
      "Downloading and Extracting Packages:\n",
      "scipy-1.16.2         | 20.3 MB   |                                       |   0% \n",
      "libopenblas-0.3.30   | 4.1 MB    |                                       |   0% \u001b[A\n",
      "scipy-1.16.2         | 20.3 MB   |                                       |   0% \u001b[A\n",
      "scipy-1.16.2         | 20.3 MB   | #6                                    |   4% \u001b[A\n",
      "scipy-1.16.2         | 20.3 MB   | ######                                |  16% \u001b[A\n",
      "libopenblas-0.3.30   | 4.1 MB    | ##################################### | 100% \u001b[A\n",
      "                                                                                \u001b[A\n",
      "                                                                                \u001b[A\n",
      "Preparing transaction: done\n",
      "Verifying transaction: done\n",
      "Executing transaction: done\n",
      "/Users/smore/miniconda3/lib/python3.12/site-packages/conda/base/context.py:201: FutureWarning: Adding 'defaults' to channel list implicitly is deprecated and will be removed in 25.3. \n",
      "\n",
      "To remove this warning, please choose a default channel explicitly with conda's regular configuration system, e.g. by adding 'defaults' to the list of channels:\n",
      "\n",
      "  conda config --add channels defaults\n",
      "\n",
      "For more information see https://docs.conda.io/projects/conda/en/stable/user-guide/configuration/use-condarc.html\n",
      "\n",
      "  deprecated.topic(\n",
      "/Users/smore/miniconda3/lib/python3.12/site-packages/conda/base/context.py:201: FutureWarning: Adding 'defaults' to channel list implicitly is deprecated and will be removed in 25.3. \n",
      "\n",
      "To remove this warning, please choose a default channel explicitly with conda's regular configuration system, e.g. by adding 'defaults' to the list of channels:\n",
      "\n",
      "  conda config --add channels defaults\n",
      "\n",
      "For more information see https://docs.conda.io/projects/conda/en/stable/user-guide/configuration/use-condarc.html\n",
      "\n",
      "  deprecated.topic(\n",
      "Channels:\n",
      " - defaults\n",
      "Platform: osx-arm64\n",
      "Collecting package metadata (repodata.json): done\n",
      "Solving environment: done\n",
      "\n",
      "## Package Plan ##\n",
      "\n",
      "  environment location: /Users/smore/miniconda3/envs/emat\n",
      "\n",
      "  added / updated specs:\n",
      "    - statsmodels\n",
      "\n",
      "\n",
      "The following packages will be downloaded:\n",
      "\n",
      "    package                    |            build\n",
      "    ---------------------------|-----------------\n",
      "    patsy-1.0.1                |  py312hca03da5_0         349 KB\n",
      "    statsmodels-0.14.5         |  py312h12bd487_0        11.8 MB\n",
      "    ------------------------------------------------------------\n",
      "                                           Total:        12.2 MB\n",
      "\n",
      "The following NEW packages will be INSTALLED:\n",
      "\n",
      "  patsy              pkgs/main/osx-arm64::patsy-1.0.1-py312hca03da5_0 \n",
      "  statsmodels        pkgs/main/osx-arm64::statsmodels-0.14.5-py312h12bd487_0 \n",
      "\n",
      "\n",
      "\n",
      "Downloading and Extracting Packages:\n",
      "statsmodels-0.14.5   | 11.8 MB   |                                       |   0% \n",
      "patsy-1.0.1          | 349 KB    |                                       |   0% \u001b[A\n",
      "statsmodels-0.14.5   | 11.8 MB   |                                       |   0% \u001b[A\n",
      "statsmodels-0.14.5   | 11.8 MB   | ##                                    |   6% \u001b[A\n",
      "patsy-1.0.1          | 349 KB    | ##################################### | 100% \u001b[A\n",
      "                                                                                \u001b[A\n",
      "                                                                                \u001b[A\n",
      "Preparing transaction: done\n",
      "Verifying transaction: done\n",
      "Executing transaction: done\n"
     ]
    }
   ],
   "source": [
    "!conda install scipy -y\n",
    "!conda install statsmodels -y"
   ]
  },
  {
   "cell_type": "code",
   "execution_count": 2,
   "id": "2f3b8057",
   "metadata": {},
   "outputs": [],
   "source": [
    "\n",
    "#import numpy as np\n",
    "import pandas as pd\n",
    "import matplotlib.pyplot as plt\n",
    "\n",
    "from scipy import stats\n",
    "import statsmodels.api as sm\n",
    "import statsmodels.formula.api as smf\n",
    "\n",
    "#np.random.seed(42)  # reproducibility (if we simulate anything)\n",
    "#print(\"Versions -> numpy\", np.__version__, \"| pandas\", pd.__version__)\n"
   ]
  },
  {
   "cell_type": "markdown",
   "id": "7c60f7dc",
   "metadata": {},
   "source": [
    "\n",
    "## 1) Load the Palmer Penguins dataset\n",
    "We’ll try the `palmerpenguins` package first; if it’s not available, we’ll fall back to reading the CSV from GitHub.\n",
    "Then we’ll keep only rows with complete data for the variables we plan to use.\n"
   ]
  },
  {
   "cell_type": "code",
   "execution_count": 4,
   "id": "270b2bfa",
   "metadata": {},
   "outputs": [
    {
     "data": {
      "text/html": [
       "<div>\n",
       "<style scoped>\n",
       "    .dataframe tbody tr th:only-of-type {\n",
       "        vertical-align: middle;\n",
       "    }\n",
       "\n",
       "    .dataframe tbody tr th {\n",
       "        vertical-align: top;\n",
       "    }\n",
       "\n",
       "    .dataframe thead th {\n",
       "        text-align: right;\n",
       "    }\n",
       "</style>\n",
       "<table border=\"1\" class=\"dataframe\">\n",
       "  <thead>\n",
       "    <tr style=\"text-align: right;\">\n",
       "      <th></th>\n",
       "      <th>species</th>\n",
       "      <th>island</th>\n",
       "      <th>bill_length_mm</th>\n",
       "      <th>bill_depth_mm</th>\n",
       "      <th>flipper_length_mm</th>\n",
       "      <th>body_mass_g</th>\n",
       "      <th>sex</th>\n",
       "      <th>year</th>\n",
       "    </tr>\n",
       "  </thead>\n",
       "  <tbody>\n",
       "    <tr>\n",
       "      <th>0</th>\n",
       "      <td>Adelie</td>\n",
       "      <td>Torgersen</td>\n",
       "      <td>39.1</td>\n",
       "      <td>18.7</td>\n",
       "      <td>181.0</td>\n",
       "      <td>3750.0</td>\n",
       "      <td>male</td>\n",
       "      <td>2007</td>\n",
       "    </tr>\n",
       "    <tr>\n",
       "      <th>1</th>\n",
       "      <td>Adelie</td>\n",
       "      <td>Torgersen</td>\n",
       "      <td>39.5</td>\n",
       "      <td>17.4</td>\n",
       "      <td>186.0</td>\n",
       "      <td>3800.0</td>\n",
       "      <td>female</td>\n",
       "      <td>2007</td>\n",
       "    </tr>\n",
       "    <tr>\n",
       "      <th>2</th>\n",
       "      <td>Adelie</td>\n",
       "      <td>Torgersen</td>\n",
       "      <td>40.3</td>\n",
       "      <td>18.0</td>\n",
       "      <td>195.0</td>\n",
       "      <td>3250.0</td>\n",
       "      <td>female</td>\n",
       "      <td>2007</td>\n",
       "    </tr>\n",
       "    <tr>\n",
       "      <th>4</th>\n",
       "      <td>Adelie</td>\n",
       "      <td>Torgersen</td>\n",
       "      <td>36.7</td>\n",
       "      <td>19.3</td>\n",
       "      <td>193.0</td>\n",
       "      <td>3450.0</td>\n",
       "      <td>female</td>\n",
       "      <td>2007</td>\n",
       "    </tr>\n",
       "    <tr>\n",
       "      <th>5</th>\n",
       "      <td>Adelie</td>\n",
       "      <td>Torgersen</td>\n",
       "      <td>39.3</td>\n",
       "      <td>20.6</td>\n",
       "      <td>190.0</td>\n",
       "      <td>3650.0</td>\n",
       "      <td>male</td>\n",
       "      <td>2007</td>\n",
       "    </tr>\n",
       "  </tbody>\n",
       "</table>\n",
       "</div>"
      ],
      "text/plain": [
       "  species     island  bill_length_mm  bill_depth_mm  flipper_length_mm  \\\n",
       "0  Adelie  Torgersen            39.1           18.7              181.0   \n",
       "1  Adelie  Torgersen            39.5           17.4              186.0   \n",
       "2  Adelie  Torgersen            40.3           18.0              195.0   \n",
       "4  Adelie  Torgersen            36.7           19.3              193.0   \n",
       "5  Adelie  Torgersen            39.3           20.6              190.0   \n",
       "\n",
       "   body_mass_g     sex  year  \n",
       "0       3750.0    male  2007  \n",
       "1       3800.0  female  2007  \n",
       "2       3250.0  female  2007  \n",
       "4       3450.0  female  2007  \n",
       "5       3650.0    male  2007  "
      ]
     },
     "execution_count": 4,
     "metadata": {},
     "output_type": "execute_result"
    }
   ],
   "source": [
    "\n",
    "# Try package; fallback to CSV URL\n",
    "try:\n",
    "    from palmerpenguins import load_penguins\n",
    "    peng = load_penguins()\n",
    "except Exception as e:\n",
    "    url = \"https://raw.githubusercontent.com/allisonhorst/palmerpenguins/master/inst/extdata/penguins.csv\"\n",
    "    peng = pd.read_csv(url)\n",
    "\n",
    "cols_needed = [\"body_mass_g\", \"flipper_length_mm\", \"bill_length_mm\", \"bill_depth_mm\", \"species\", \"island\", \"sex\"]\n",
    "peng = peng.dropna(subset=cols_needed).copy()\n",
    "peng.head()\n"
   ]
  },
  {
   "cell_type": "markdown",
   "id": "d726a7d9",
   "metadata": {},
   "source": [
    "\n",
    "## 2) Description: what do we have?\n"
   ]
  },
  {
   "cell_type": "code",
   "execution_count": 6,
   "id": "73fba3c9",
   "metadata": {},
   "outputs": [
    {
     "name": "stdout",
     "output_type": "stream",
     "text": [
      "body_mass_g: DescribeResult(nobs=np.int64(333), minmax=(np.float64(2700.0), np.float64(6300.0)), mean=np.float64(4207.057057057057), variance=np.float64(648372.4876985418), skewness=np.float64(0.4701161714183821), kurtosis=np.float64(-0.7404858802598837))\n"
     ]
    }
   ],
   "source": [
    "\n",
    "desc_mass = stats.describe(peng[\"body_mass_g\"])\n",
    "#desc_flipper = stats.describe(peng[\"flipper_length_mm\"])\n",
    "#desc_bill_len = stats.describe(peng[\"bill_length_mm\"])\n",
    "#desc_bill_dep = stats.describe(peng[\"bill_depth_mm\"])\n",
    "\n",
    "print(\"body_mass_g:\", desc_mass)\n",
    "#print(\"flipper_length_mm:\", desc_flipper)\n",
    "#print(\"bill_length_mm:\", desc_bill_len)\n",
    "#print(\"bill_depth_mm:\", desc_bill_dep)\n"
   ]
  },
  {
   "cell_type": "code",
   "execution_count": 11,
   "id": "cf044da2",
   "metadata": {},
   "outputs": [
    {
     "name": "stdout",
     "output_type": "stream",
     "text": [
      "          body_mass_g                                                   \\\n",
      "                count         mean         std     min     25%     50%   \n",
      "species                                                                  \n",
      "Adelie          146.0  3706.164384  458.620135  2850.0  3362.5  3700.0   \n",
      "Chinstrap        68.0  3733.088235  384.335081  2700.0  3487.5  3700.0   \n",
      "Gentoo          119.0  5092.436975  501.476154  3950.0  4700.0  5050.0   \n",
      "\n",
      "                          flipper_length_mm              ... bill_length_mm  \\\n",
      "              75%     max             count        mean  ...            75%   \n",
      "species                                                  ...                  \n",
      "Adelie     4000.0  4775.0             146.0  190.102740  ...         40.775   \n",
      "Chinstrap  3950.0  4800.0              68.0  195.823529  ...         51.075   \n",
      "Gentoo     5500.0  6300.0             119.0  217.235294  ...         49.600   \n",
      "\n",
      "                bill_depth_mm                                                 \\\n",
      "            max         count       mean       std   min   25%    50%    75%   \n",
      "species                                                                        \n",
      "Adelie     46.0         146.0  18.347260  1.219338  15.5  17.5  18.40  19.00   \n",
      "Chinstrap  58.0          68.0  18.420588  1.135395  16.4  17.5  18.45  19.40   \n",
      "Gentoo     59.6         119.0  14.996639  0.985998  13.1  14.2  15.00  15.75   \n",
      "\n",
      "                 \n",
      "            max  \n",
      "species          \n",
      "Adelie     21.5  \n",
      "Chinstrap  20.8  \n",
      "Gentoo     17.3  \n",
      "\n",
      "[3 rows x 32 columns]\n",
      "          body_mass_g                                                   \\\n",
      "                count         mean         std     min     25%     50%   \n",
      "island                                                                   \n",
      "Biscoe          163.0  4719.171779  790.860069  2850.0  4200.0  4800.0   \n",
      "Dream           123.0  3718.902439  412.935581  2700.0  3412.5  3700.0   \n",
      "Torgersen        47.0  3708.510638  451.846351  2900.0  3337.5  3700.0   \n",
      "\n",
      "                          flipper_length_mm                                \\\n",
      "              75%     max             count        mean        std    min   \n",
      "island                                                                      \n",
      "Biscoe     5350.0  6300.0             163.0  209.558282  14.282467  172.0   \n",
      "Dream      3962.5  4800.0             123.0  193.186992   7.428732  178.0   \n",
      "Torgersen  4000.0  4700.0              47.0  191.531915   6.220062  176.0   \n",
      "\n",
      "                                       \n",
      "             25%    50%    75%    max  \n",
      "island                                 \n",
      "Biscoe     198.5  213.0  220.0  231.0  \n",
      "Dream      188.0  193.0  198.0  212.0  \n",
      "Torgersen  187.5  191.0  195.5  210.0  \n"
     ]
    }
   ],
   "source": [
    "\n",
    "# Grouped description by species (and island)\n",
    "group_by_species = peng.groupby(\"species\")[[\"body_mass_g\", \"flipper_length_mm\", \"bill_length_mm\", \"bill_depth_mm\"]].describe()\n",
    "group_by_island  = peng.groupby(\"island\")[[\"body_mass_g\", \"flipper_length_mm\"]].describe()\n",
    "#group_by_species, group_by_island\n",
    "print(group_by_species)\n",
    "\n",
    "print(group_by_island)\n"
   ]
  },
  {
   "cell_type": "markdown",
   "id": "0f49c69b",
   "metadata": {},
   "source": [
    "\n",
    "### 2.1 Quick univariate visuals (always look at the data)\n"
   ]
  },
  {
   "cell_type": "code",
   "execution_count": 12,
   "id": "b8f178c2",
   "metadata": {},
   "outputs": [
    {
     "data": {
      "image/png": "[encoded data removed]",
      "text/plain": [
       "<Figure size 500x400 with 1 Axes>"
      ]
     },
     "metadata": {},
     "output_type": "display_data"
    },
    {
     "data": {
      "image/png": "[encoded data removed]",
      "text/plain": [
       "<Figure size 500x400 with 1 Axes>"
      ]
     },
     "metadata": {},
     "output_type": "display_data"
    },
    {
     "data": {
      "image/png": "[encoded data removed]",
      "text/plain": [
       "<Figure size 500x400 with 1 Axes>"
      ]
     },
     "metadata": {},
     "output_type": "display_data"
    },
    {
     "data": {
      "image/png": "[encoded data removed]",
      "text/plain": [
       "<Figure size 500x400 with 1 Axes>"
      ]
     },
     "metadata": {},
     "output_type": "display_data"
    }
   ],
   "source": [
    "\n",
    "plt.figure(figsize=(5,4))\n",
    "plt.hist(peng[\"body_mass_g\"], bins=20)\n",
    "plt.title(\"Distribution: body_mass_g\")\n",
    "plt.xlabel(\"grams\"); plt.ylabel(\"count\")\n",
    "plt.show()\n",
    "\n",
    "plt.figure(figsize=(5,4))\n",
    "plt.hist(peng[\"flipper_length_mm\"], bins=20)\n",
    "plt.title(\"Distribution: flipper_length_mm\")\n",
    "plt.xlabel(\"mm\"); plt.ylabel(\"count\")\n",
    "plt.show()\n",
    "\n",
    "plt.figure(figsize=(5,4))\n",
    "plt.hist(peng[\"bill_length_mm\"], bins=20)\n",
    "plt.title(\"Distribution: bill_length_mm\")\n",
    "plt.xlabel(\"mm\"); plt.ylabel(\"count\")\n",
    "plt.show()\n",
    "\n",
    "plt.figure(figsize=(5,4))\n",
    "plt.hist(peng[\"bill_depth_mm\"], bins=20)\n",
    "plt.title(\"Distribution: bill_depth_mm\")\n",
    "plt.xlabel(\"mm\"); plt.ylabel(\"count\")\n",
    "plt.show()\n"
   ]
  },
  {
   "cell_type": "markdown",
   "id": "180e8d0a",
   "metadata": {},
   "source": [
    "\n",
    "## 3) Inference about relationships: Are variables associated?\n",
    "We’ll examine the linear association between **flipper length** and **body mass**, then test significance with **Pearson’s r**.\n"
   ]
  },
  {
   "cell_type": "code",
   "execution_count": 14,
   "id": "249f0317",
   "metadata": {},
   "outputs": [
    {
     "name": "stdout",
     "output_type": "stream",
     "text": [
      "Pearson r(flipper_length_mm, body_mass_g) = 0.873, p-value = 3.13e-105\n"
     ]
    }
   ],
   "source": [
    "\n",
    "r, p = stats.pearsonr(peng[\"flipper_length_mm\"], peng[\"body_mass_g\"])\n",
    "print(f\"Pearson r(flipper_length_mm, body_mass_g) = {r:.3f}, p-value = {p:.3g}\")\n"
   ]
  },
  {
   "cell_type": "code",
   "execution_count": 19,
   "id": "f79b8743",
   "metadata": {},
   "outputs": [
    {
     "data": {
      "image/png": "[encoded data removed]",
      "text/plain": [
       "<Figure size 500x400 with 1 Axes>"
      ]
     },
     "metadata": {},
     "output_type": "display_data"
    }
   ],
   "source": [
    "import numpy as np\n",
    "\n",
    "x = peng[\"flipper_length_mm\"].values\n",
    "y = peng[\"body_mass_g\"].values\n",
    "#m, b = np.polyfit(x, y, 1)\n",
    "\n",
    "plt.figure(figsize=(5,4))\n",
    "plt.scatter(x, y, alpha=0.7)\n",
    "#xs = np.linspace(x.min(), x.max(), 200)\n",
    "#ys = m*xs + b\n",
    "#plt.plot(xs, ys)\n",
    "plt.title(\"Body Mass vs Flipper Length (with simple linear fit)\")\n",
    "plt.xlabel(\"flipper_length_mm\"); plt.ylabel(\"body_mass_g\")\n",
    "plt.show()\n"
   ]
  },
  {
   "cell_type": "markdown",
   "id": "648e079c-fbf0-48b4-a973-3f377801f28e",
   "metadata": {},
   "source": [
    "NOTE: See a strong positive trend: heavier penguins tend to have longer flippers"
   ]
  },
  {
   "cell_type": "markdown",
   "id": "7886e166-bc36-4298-b292-52d1f93108ca",
   "metadata": {},
   "source": [
    "But species differ in size:\n",
    "Gentoo are generally larger; Adelie are smaller; Chinstrap in between. If you mix species, your “one big trend” blends between-species differences with within-species relationships"
   ]
  },
  {
   "cell_type": "markdown",
   "id": "0e75e3f3",
   "metadata": {},
   "source": [
    "\n",
    "### 3.1 Robust checks (optional): Spearman/Kendall\n"
   ]
  },
  {
   "cell_type": "code",
   "execution_count": 20,
   "id": "df6cff54",
   "metadata": {},
   "outputs": [
    {
     "name": "stdout",
     "output_type": "stream",
     "text": [
      "Spearman rho = 0.840 (p=4.63e-90) | Kendall tau = 0.661 (p=5.65e-70)\n"
     ]
    }
   ],
   "source": [
    "\n",
    "rho, p_rho = stats.spearmanr(peng[\"flipper_length_mm\"], peng[\"body_mass_g\"])\n",
    "tau, p_tau = stats.kendalltau(peng[\"flipper_length_mm\"], peng[\"body_mass_g\"])\n",
    "print(f\"Spearman rho = {rho:.3f} (p={p_rho:.3g}) | Kendall tau = {tau:.3f} (p={p_tau:.3g})\")\n"
   ]
  },
  {
   "cell_type": "markdown",
   "id": "f2aeb017",
   "metadata": {},
   "source": [
    "\n",
    "## 4) Modeling with `statsmodels` (OLS)\n",
    "\n",
    "We’ll fit two models:\n",
    "1. **Simple model**: `body_mass_g ~ flipper_length_mm + C(species)`  \n",
    "2. **Expanded model**: `body_mass_g ~ flipper_length_mm + bill_length_mm + bill_depth_mm + C(species) + C(sex) + C(island)`\n",
    "\n",
    "Categoricals via `C(...)` let us *control* for group differences.\n"
   ]
  },
  {
   "cell_type": "code",
   "execution_count": 21,
   "id": "498f4faa",
   "metadata": {},
   "outputs": [
    {
     "name": "stdout",
     "output_type": "stream",
     "text": [
      "                            OLS Regression Results                            \n",
      "==============================================================================\n",
      "Dep. Variable:            body_mass_g   R-squared:                       0.787\n",
      "Model:                            OLS   Adj. R-squared:                  0.785\n",
      "Method:                 Least Squares   F-statistic:                     405.3\n",
      "Date:                Fri, 24 Oct 2025   Prob (F-statistic):          4.14e-110\n",
      "Time:                        15:56:21   Log-Likelihood:                -2442.6\n",
      "No. Observations:                 333   AIC:                             4893.\n",
      "Df Residuals:                     329   BIC:                             4908.\n",
      "Df Model:                           3                                         \n",
      "Covariance Type:            nonrobust                                         \n",
      "===========================================================================================\n",
      "                              coef    std err          t      P>|t|      [0.025      0.975]\n",
      "-------------------------------------------------------------------------------------------\n",
      "Intercept               -4013.1789    586.246     -6.846      0.000   -5166.442   -2859.915\n",
      "C(species)[T.Chinstrap]  -205.3755     57.566     -3.568      0.000    -318.620     -92.131\n",
      "C(species)[T.Gentoo]      284.5236     95.430      2.981      0.003      96.793     472.254\n",
      "flipper_length_mm          40.6062      3.080     13.186      0.000      34.548      46.664\n",
      "==============================================================================\n",
      "Omnibus:                        3.729   Durbin-Watson:                   2.494\n",
      "Prob(Omnibus):                  0.155   Jarque-Bera (JB):                3.756\n",
      "Skew:                           0.257   Prob(JB):                        0.153\n",
      "Kurtosis:                       2.920   Cond. No.                     5.83e+03\n",
      "==============================================================================\n",
      "\n",
      "Notes:\n",
      "[1] Standard Errors assume that the covariance matrix of the errors is correctly specified.\n",
      "[2] The condition number is large, 5.83e+03. This might indicate that there are\n",
      "strong multicollinearity or other numerical problems.\n"
     ]
    }
   ],
   "source": [
    "\n",
    "model1 = smf.ols(\"body_mass_g ~ flipper_length_mm + C(species)\", data=peng).fit()\n",
    "print(model1.summary())\n"
   ]
  },
  {
   "cell_type": "code",
   "execution_count": 22,
   "id": "aaab8497",
   "metadata": {},
   "outputs": [
    {
     "name": "stdout",
     "output_type": "stream",
     "text": [
      "                            OLS Regression Results                            \n",
      "==============================================================================\n",
      "Dep. Variable:            body_mass_g   R-squared:                       0.875\n",
      "Model:                            OLS   Adj. R-squared:                  0.872\n",
      "Method:                 Least Squares   F-statistic:                     284.1\n",
      "Date:                Fri, 24 Oct 2025   Prob (F-statistic):          1.85e-141\n",
      "Time:                        15:56:29   Log-Likelihood:                -2353.6\n",
      "No. Observations:                 333   AIC:                             4725.\n",
      "Df Residuals:                     324   BIC:                             4760.\n",
      "Df Model:                           8                                         \n",
      "Covariance Type:            nonrobust                                         \n",
      "===========================================================================================\n",
      "                              coef    std err          t      P>|t|      [0.025      0.975]\n",
      "-------------------------------------------------------------------------------------------\n",
      "Intercept               -1500.0291    575.822     -2.605      0.010   -2632.852    -367.207\n",
      "C(species)[T.Chinstrap]  -260.3063     88.551     -2.940      0.004    -434.513     -86.100\n",
      "C(species)[T.Gentoo]      987.7614    137.238      7.197      0.000     717.771    1257.752\n",
      "C(sex)[T.male]            387.2243     48.138      8.044      0.000     292.521     481.927\n",
      "C(island)[T.Dream]        -13.1031     58.541     -0.224      0.823    -128.271     102.065\n",
      "C(island)[T.Torgersen]    -48.0636     60.922     -0.789      0.431    -167.915      71.788\n",
      "flipper_length_mm          16.2385      2.939      5.524      0.000      10.456      22.021\n",
      "bill_length_mm             18.1893      7.136      2.549      0.011       4.150      32.229\n",
      "bill_depth_mm              67.5754     19.821      3.409      0.001      28.581     106.570\n",
      "==============================================================================\n",
      "Omnibus:                        1.114   Durbin-Watson:                   2.162\n",
      "Prob(Omnibus):                  0.573   Jarque-Bera (JB):                1.101\n",
      "Skew:                           0.139   Prob(JB):                        0.577\n",
      "Kurtosis:                       2.958   Cond. No.                     7.59e+03\n",
      "==============================================================================\n",
      "\n",
      "Notes:\n",
      "[1] Standard Errors assume that the covariance matrix of the errors is correctly specified.\n",
      "[2] The condition number is large, 7.59e+03. This might indicate that there are\n",
      "strong multicollinearity or other numerical problems.\n"
     ]
    }
   ],
   "source": [
    "\n",
    "model2 = smf.ols(\"body_mass_g ~ flipper_length_mm + bill_length_mm + bill_depth_mm + C(species) + C(sex) + C(island)\", data=peng).fit()\n",
    "print(model2.summary())\n"
   ]
  },
  {
   "cell_type": "markdown",
   "id": "9622817f",
   "metadata": {},
   "source": [
    "\n",
    "### 4.1 Interaction example (optional)\n",
    "Does the flipper–mass slope differ by species? Add an interaction: `flipper_length_mm * C(species)`.\n"
   ]
  },
  {
   "cell_type": "code",
   "execution_count": 23,
   "id": "457095f1",
   "metadata": {},
   "outputs": [
    {
     "name": "stdout",
     "output_type": "stream",
     "text": [
      "                            OLS Regression Results                            \n",
      "==============================================================================\n",
      "Dep. Variable:            body_mass_g   R-squared:                       0.877\n",
      "Model:                            OLS   Adj. R-squared:                  0.873\n",
      "Method:                 Least Squares   F-statistic:                     229.2\n",
      "Date:                Fri, 24 Oct 2025   Prob (F-statistic):          6.72e-140\n",
      "Time:                        15:56:42   Log-Likelihood:                -2351.5\n",
      "No. Observations:                 333   AIC:                             4725.\n",
      "Df Residuals:                     322   BIC:                             4767.\n",
      "Df Model:                          10                                         \n",
      "Covariance Type:            nonrobust                                         \n",
      "=============================================================================================================\n",
      "                                                coef    std err          t      P>|t|      [0.025      0.975]\n",
      "-------------------------------------------------------------------------------------------------------------\n",
      "Intercept                                 -1494.7125    786.063     -1.902      0.058   -3041.180      51.755\n",
      "C(species)[T.Chinstrap]                    1236.0529   1199.722      1.030      0.304   -1124.230    3596.335\n",
      "C(species)[T.Gentoo]                       -180.5993   1154.717     -0.156      0.876   -2452.341    2091.142\n",
      "C(sex)[T.male]                              385.1302     48.014      8.021      0.000     290.669     479.591\n",
      "C(island)[T.Dream]                          -13.7006     58.397     -0.235      0.815    -128.589     101.187\n",
      "C(island)[T.Torgersen]                      -48.4891     61.139     -0.793      0.428    -168.772      71.794\n",
      "flipper_length_mm                            16.4019      3.895      4.211      0.000       8.739      24.065\n",
      "flipper_length_mm:C(species)[T.Chinstrap]    -7.5927      6.191     -1.226      0.221     -19.772       4.587\n",
      "flipper_length_mm:C(species)[T.Gentoo]        5.4016      5.589      0.966      0.335      -5.594      16.397\n",
      "bill_length_mm                               17.1661      7.175      2.393      0.017       3.051      31.281\n",
      "bill_depth_mm                                67.8349     19.789      3.428      0.001      28.902     106.767\n",
      "==============================================================================\n",
      "Omnibus:                        1.249   Durbin-Watson:                   2.130\n",
      "Prob(Omnibus):                  0.536   Jarque-Bera (JB):                1.158\n",
      "Skew:                           0.144   Prob(JB):                        0.560\n",
      "Kurtosis:                       3.010   Cond. No.                     2.18e+04\n",
      "==============================================================================\n",
      "\n",
      "Notes:\n",
      "[1] Standard Errors assume that the covariance matrix of the errors is correctly specified.\n",
      "[2] The condition number is large, 2.18e+04. This might indicate that there are\n",
      "strong multicollinearity or other numerical problems.\n"
     ]
    }
   ],
   "source": [
    "\n",
    "model_int = smf.ols(\"body_mass_g ~ flipper_length_mm * C(species) + bill_length_mm + bill_depth_mm + C(sex) + C(island)\", data=peng).fit()\n",
    "print(model_int.summary())\n"
   ]
  },
  {
   "cell_type": "markdown",
   "id": "6ca7d16f",
   "metadata": {},
   "source": [
    "\n",
    "### 4.2 Confidence intervals & predictions\n"
   ]
  },
  {
   "cell_type": "code",
   "execution_count": 24,
   "id": "df5c4ecf",
   "metadata": {},
   "outputs": [
    {
     "data": {
      "text/html": [
       "<div>\n",
       "<style scoped>\n",
       "    .dataframe tbody tr th:only-of-type {\n",
       "        vertical-align: middle;\n",
       "    }\n",
       "\n",
       "    .dataframe tbody tr th {\n",
       "        vertical-align: top;\n",
       "    }\n",
       "\n",
       "    .dataframe thead th {\n",
       "        text-align: right;\n",
       "    }\n",
       "</style>\n",
       "<table border=\"1\" class=\"dataframe\">\n",
       "  <thead>\n",
       "    <tr style=\"text-align: right;\">\n",
       "      <th></th>\n",
       "      <th>0</th>\n",
       "      <th>1</th>\n",
       "    </tr>\n",
       "  </thead>\n",
       "  <tbody>\n",
       "    <tr>\n",
       "      <th>Intercept</th>\n",
       "      <td>-2632.851522</td>\n",
       "      <td>-367.206669</td>\n",
       "    </tr>\n",
       "    <tr>\n",
       "      <th>C(species)[T.Chinstrap]</th>\n",
       "      <td>-434.512990</td>\n",
       "      <td>-86.099599</td>\n",
       "    </tr>\n",
       "    <tr>\n",
       "      <th>C(species)[T.Gentoo]</th>\n",
       "      <td>717.771185</td>\n",
       "      <td>1257.751705</td>\n",
       "    </tr>\n",
       "    <tr>\n",
       "      <th>C(sex)[T.male]</th>\n",
       "      <td>292.521298</td>\n",
       "      <td>481.927213</td>\n",
       "    </tr>\n",
       "    <tr>\n",
       "      <th>C(island)[T.Dream]</th>\n",
       "      <td>-128.270894</td>\n",
       "      <td>102.064792</td>\n",
       "    </tr>\n",
       "    <tr>\n",
       "      <th>C(island)[T.Torgersen]</th>\n",
       "      <td>-167.915334</td>\n",
       "      <td>71.788083</td>\n",
       "    </tr>\n",
       "    <tr>\n",
       "      <th>flipper_length_mm</th>\n",
       "      <td>10.455674</td>\n",
       "      <td>22.021338</td>\n",
       "    </tr>\n",
       "    <tr>\n",
       "      <th>bill_length_mm</th>\n",
       "      <td>4.149805</td>\n",
       "      <td>32.228826</td>\n",
       "    </tr>\n",
       "    <tr>\n",
       "      <th>bill_depth_mm</th>\n",
       "      <td>28.580761</td>\n",
       "      <td>106.570098</td>\n",
       "    </tr>\n",
       "  </tbody>\n",
       "</table>\n",
       "</div>"
      ],
      "text/plain": [
       "                                   0            1\n",
       "Intercept               -2632.851522  -367.206669\n",
       "C(species)[T.Chinstrap]  -434.512990   -86.099599\n",
       "C(species)[T.Gentoo]      717.771185  1257.751705\n",
       "C(sex)[T.male]            292.521298   481.927213\n",
       "C(island)[T.Dream]       -128.270894   102.064792\n",
       "C(island)[T.Torgersen]   -167.915334    71.788083\n",
       "flipper_length_mm          10.455674    22.021338\n",
       "bill_length_mm              4.149805    32.228826\n",
       "bill_depth_mm              28.580761   106.570098"
      ]
     },
     "execution_count": 24,
     "metadata": {},
     "output_type": "execute_result"
    }
   ],
   "source": [
    "\n",
    "# Confidence intervals on coefficients\n",
    "model2_ci = model2.conf_int()\n",
    "model2_ci\n"
   ]
  },
  {
   "cell_type": "code",
   "execution_count": 25,
   "id": "d7126f44",
   "metadata": {},
   "outputs": [
    {
     "data": {
      "text/html": [
       "<div>\n",
       "<style scoped>\n",
       "    .dataframe tbody tr th:only-of-type {\n",
       "        vertical-align: middle;\n",
       "    }\n",
       "\n",
       "    .dataframe tbody tr th {\n",
       "        vertical-align: top;\n",
       "    }\n",
       "\n",
       "    .dataframe thead th {\n",
       "        text-align: right;\n",
       "    }\n",
       "</style>\n",
       "<table border=\"1\" class=\"dataframe\">\n",
       "  <thead>\n",
       "    <tr style=\"text-align: right;\">\n",
       "      <th></th>\n",
       "      <th>mean</th>\n",
       "      <th>mean_se</th>\n",
       "      <th>mean_ci_lower</th>\n",
       "      <th>mean_ci_upper</th>\n",
       "      <th>obs_ci_lower</th>\n",
       "      <th>obs_ci_upper</th>\n",
       "    </tr>\n",
       "  </thead>\n",
       "  <tbody>\n",
       "    <tr>\n",
       "      <th>0</th>\n",
       "      <td>3638.417544</td>\n",
       "      <td>70.813319</td>\n",
       "      <td>3499.105598</td>\n",
       "      <td>3777.729490</td>\n",
       "      <td>3055.103474</td>\n",
       "      <td>4221.731614</td>\n",
       "    </tr>\n",
       "    <tr>\n",
       "      <th>1</th>\n",
       "      <td>3509.139696</td>\n",
       "      <td>48.147677</td>\n",
       "      <td>3414.418156</td>\n",
       "      <td>3603.861236</td>\n",
       "      <td>2934.840422</td>\n",
       "      <td>4083.438971</td>\n",
       "    </tr>\n",
       "    <tr>\n",
       "      <th>2</th>\n",
       "      <td>5370.525154</td>\n",
       "      <td>34.322366</td>\n",
       "      <td>5303.002325</td>\n",
       "      <td>5438.047982</td>\n",
       "      <td>4800.080749</td>\n",
       "      <td>5940.969558</td>\n",
       "    </tr>\n",
       "  </tbody>\n",
       "</table>\n",
       "</div>"
      ],
      "text/plain": [
       "          mean    mean_se  mean_ci_lower  mean_ci_upper  obs_ci_lower  \\\n",
       "0  3638.417544  70.813319    3499.105598    3777.729490   3055.103474   \n",
       "1  3509.139696  48.147677    3414.418156    3603.861236   2934.840422   \n",
       "2  5370.525154  34.322366    5303.002325    5438.047982   4800.080749   \n",
       "\n",
       "   obs_ci_upper  \n",
       "0   4221.731614  \n",
       "1   4083.438971  \n",
       "2   5940.969558  "
      ]
     },
     "execution_count": 25,
     "metadata": {},
     "output_type": "execute_result"
    }
   ],
   "source": [
    "\n",
    "# Predictions for hypothetical penguins\n",
    "new = pd.DataFrame({\n",
    "    \"flipper_length_mm\": [180, 200, 220],\n",
    "    \"bill_length_mm\": [40, 45, 50],\n",
    "    \"bill_depth_mm\": [17, 18, 15],\n",
    "    \"species\": [\"Adelie\", \"Chinstrap\", \"Gentoo\"],\n",
    "    \"sex\": [\"male\", \"female\", \"male\"],\n",
    "    \"island\": [\"Torgersen\", \"Dream\", \"Biscoe\"]\n",
    "})\n",
    "pred = model2.get_prediction(new).summary_frame(alpha=0.05)\n",
    "pred\n"
   ]
  },
  {
   "cell_type": "markdown",
   "id": "3756c603",
   "metadata": {},
   "source": [
    "_Notebook generated: 2025-10-23 21:51 UTC_"
   ]
  }
 ],
 "metadata": {
  "kernelspec": {
   "display_name": "Python 3 (ipykernel)",
   "language": "python",
   "name": "python3"
  },
  "language_info": {
   "codemirror_mode": {
    "name": "ipython",
    "version": 3
   },
   "file_extension": ".py",
   "mimetype": "text/x-python",
   "name": "python",
   "nbconvert_exporter": "python",
   "pygments_lexer": "ipython3",
   "version": "3.12.11"
  }
 },
 "nbformat": 4,
 "nbformat_minor": 5
}
