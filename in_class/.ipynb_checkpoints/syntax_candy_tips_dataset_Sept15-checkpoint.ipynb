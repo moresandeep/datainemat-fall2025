{
 "cells": [
  {
   "cell_type": "markdown",
   "id": "2402e73f",
   "metadata": {},
   "source": [
    "# Instructor Version — Syntax Candy: Select, Filter & Query\n",
    "*Teaching notes, gotchas, and fully worked solutions.*\n",
    "\n",
    "**Why this version?** Includes inline explanations, alternative approaches (boolean masks vs. `.query()`), and commentary on common pitfalls so you can anticipate student issues.\n"
   ]
  },
  {
   "cell_type": "markdown",
   "id": "19ee97d3",
   "metadata": {},
   "source": [
    "### (Setup) Ensure local synthetic dataset exists (offline-ready)"
   ]
  },
  {
   "cell_type": "code",
   "execution_count": null,
   "id": "8ccd31f1",
   "metadata": {},
   "outputs": [],
   "source": [
    "import pandas as pd, numpy as np, os\n",
    "\n",
    "def _make_synthetic_tips(n=244, seed=42):\n",
    "    rng = np.random.default_rng(seed)\n",
    "    days = rng.choice([\"Thur\", \"Fri\", \"Sat\", \"Sun\"], size=n, p=[0.22, 0.10, 0.38, 0.30])\n",
    "    time = np.where(rng.random(n) < 0.78, \"Dinner\", \"Lunch\")\n",
    "    sex = rng.choice([\"Male\", \"Female\"], size=n, p=[0.64, 0.36])\n",
    "    smoker = rng.choice([\"Yes\", \"No\"], size=n, p=[0.2, 0.8])\n",
    "    size = rng.integers(1, 6, size=n)\n",
    "\n",
    "    base = rng.normal(18, 7, size=n)\n",
    "    base += np.where(time == \"Dinner\", rng.normal(5, 3, size=n), rng.normal(-1, 2, size=n))\n",
    "    base += np.where(days == \"Sat\", rng.normal(2.5, 2, size=n), 0)\n",
    "    base += np.where(days == \"Sun\", rng.normal(1.5, 2, size=n), 0)\n",
    "    base += (size - 2) * rng.normal(2.2, 0.7, size=n)\n",
    "    total_bill = np.clip(base, 3, None)\n",
    "\n",
    "    tip_pct = rng.normal(0.16, 0.03, size=n)\n",
    "    tip_pct += np.where(smoker == \"Yes\", rng.normal(0.005, 0.01, size=n), 0)\n",
    "    tip_pct += (size >= 4) * rng.normal(0.01, 0.015, size=n)\n",
    "    tip = np.clip(total_bill * tip_pct + rng.normal(0, 0.25, size=n), 0.5, None)\n",
    "\n",
    "    notes_pool = [\"\", \"\", \"\", \"birthday\", \"anniversary\", \"promo coupon\", \"regular\", \"first time\",\n",
    "                  \"window seat\", \"bar table\", \"\", \"\", \"server recommended special\"]\n",
    "    note = rng.choice(notes_pool, size=n, replace=True)\n",
    "\n",
    "    df = pd.DataFrame({\n",
    "        \"total_bill\": np.round(total_bill, 2),\n",
    "        \"tip\": np.round(tip, 2),\n",
    "        \"sex\": sex,\n",
    "        \"smoker\": smoker,\n",
    "        \"day\": days,\n",
    "        \"time\": time,\n",
    "        \"size\": size,\n",
    "        \"note\": note,\n",
    "    })\n",
    "    start = np.datetime64(\"2023-01-01\")\n",
    "    df[\"visit_date\"] = start + rng.integers(0, 365, size=n).astype(\"timedelta64[D]\")\n",
    "    return df\n",
    "\n",
    "if not os.path.exists('/mnt/data/tips_synthetic.csv'):\n",
    "    _df = _make_synthetic_tips()\n",
    "    _df.to_csv('/mnt/data/tips_synthetic.csv', index=False)\n",
    "    print(\"Saved synthetic dataset to:\", '/mnt/data/tips_synthetic.csv')\n",
    "else:\n",
    "    print(\"Synthetic dataset present at:\", '/mnt/data/tips_synthetic.csv')"
   ]
  },
  {
   "cell_type": "markdown",
   "id": "b3af1631",
   "metadata": {},
   "source": [
    "## 1. Load & Preview — with seaborn fallback"
   ]
  },
  {
   "cell_type": "code",
   "execution_count": null,
   "id": "bd37e59a",
   "metadata": {},
   "outputs": [],
   "source": [
    "import pandas as pd\n",
    "import numpy as np\n",
    "import matplotlib.pyplot as plt\n",
    "\n",
    "try:\n",
    "    import seaborn as sns\n",
    "    tips = sns.load_dataset(\"tips\")\n",
    "    if \"visit_date\" not in tips.columns:\n",
    "        # add synthetic dates to seaborn dataset for date demos\n",
    "        base = pd.Timestamp(\"2023-01-01\")\n",
    "        tips = tips.reset_index(drop=True)\n",
    "        tips[\"visit_date\"] = [base + pd.Timedelta(days=int(i % 300)) for i in range(len(tips))]\n",
    "    source = \"seaborn('tips') + synthetic 'visit_date'\"\n",
    "except Exception:\n",
    "    tips = pd.read_csv('/mnt/data/tips_synthetic.csv', parse_dates=[\"visit_date\"])\n",
    "    source = \"local synthetic CSV\"\n",
    "print(\"Data source:\", source)\n",
    "tips.head()"
   ]
  },
  {
   "cell_type": "code",
   "execution_count": null,
   "id": "1d506248",
   "metadata": {},
   "outputs": [],
   "source": [
    "tips.info()"
   ]
  },
  {
   "cell_type": "code",
   "execution_count": null,
   "id": "068284e7",
   "metadata": {},
   "outputs": [],
   "source": [
    "tips.describe(include='all').T"
   ]
  },
  {
   "cell_type": "markdown",
   "id": "7d5b945f",
   "metadata": {},
   "source": [
    "**Instructor Note:** Remind students that *raw/tidy ≠ analysis shape*. Subsetting is how we move toward the structure required by plots/models (e.g., bar charts need aggregated counts)."
   ]
  },
  {
   "cell_type": "markdown",
   "id": "4c2ea039",
   "metadata": {},
   "source": [
    "## 2. Column Selection — `[]`, `.loc`, `.iloc`, `.filter`, `select_dtypes`"
   ]
  },
  {
   "cell_type": "code",
   "execution_count": null,
   "id": "84c0a641",
   "metadata": {},
   "outputs": [],
   "source": [
    "# Quick pick: single vs. multiple columns\n",
    "display(tips['total_bill'].head())\n",
    "display(tips[['total_bill', 'tip', 'sex']].head())\n",
    "\n",
    "# Label-based vs position-based\n",
    "display(tips.loc[0:5, ['day', 'time', 'total_bill']])\n",
    "display(tips.iloc[0:5, 0:3])\n",
    "\n",
    "# By dtype\n",
    "display(tips.select_dtypes(include='number').head())\n",
    "display(tips.select_dtypes(include=['object','category']).head())\n",
    "\n",
    "# Pattern match\n",
    "display(tips.filter(like='ti').head())  # matches 'tip' and 'time' if present"
   ]
  },
  {
   "cell_type": "markdown",
   "id": "a0cdd4eb",
   "metadata": {},
   "source": [
    "**Instructor Note:** Emphasize `.loc[rows, cols]` as the single, safe mental model. Pattern selection (`.filter`) is a big time-saver when column names share prefixes/suffixes."
   ]
  },
  {
   "cell_type": "markdown",
   "id": "3682adb2",
   "metadata": {},
   "source": [
    "## 3. Row Filtering — Boolean Masks (AND/OR/NOT)"
   ]
  },
  {
   "cell_type": "code",
   "execution_count": null,
   "id": "5911f07e",
   "metadata": {},
   "outputs": [],
   "source": [
    "# Numeric + logical operators (remember parentheses)\n",
    "high_bills_good_tips = tips[(tips['total_bill'] > 20) & (tips['tip'] >= 3)]\n",
    "display(high_bills_good_tips.head())\n",
    "\n",
    "# Membership\n",
    "weekend = tips[tips['day'].isin(['Sat','Sun'])]\n",
    "display(weekend.head())\n",
    "\n",
    "# Text contains (null-safe)\n",
    "with_notes = tips[tips['note'].str.contains('day', case=False, na=False)]\n",
    "display(with_notes.head())\n",
    "\n",
    "# NOT (~) and null checks\n",
    "non_missing_smoker = tips[~tips['smoker'].isna()]\n",
    "display(non_missing_smoker.head())"
   ]
  },
  {
   "cell_type": "markdown",
   "id": "ef645d6b",
   "metadata": {},
   "source": [
    "**Common Mistake Demo:** Students may try `and`/`or` instead of `&`/`|`. Show the resulting `ValueError` quickly and correct it.\n"
   ]
  },
  {
   "cell_type": "code",
   "execution_count": null,
   "id": "51838e84",
   "metadata": {},
   "outputs": [],
   "source": [
    "# GOTCHA: Uncomment to show the error in class\n",
    "# tips[(tips['total_bill'] > 20) and (tips['tip'] >= 3)]  # WRONG: will raise ValueError"
   ]
  },
  {
   "cell_type": "markdown",
   "id": "fc755e1c",
   "metadata": {},
   "source": [
    "## 4. Dates & Text Helpers — `.dt` accessors"
   ]
  },
  {
   "cell_type": "code",
   "execution_count": null,
   "id": "92126ad4",
   "metadata": {},
   "outputs": [],
   "source": [
    "if 'visit_date' in tips.columns:\n",
    "    tips = tips.assign(\n",
    "        visit_year = tips['visit_date'].dt.year,\n",
    "        visit_month = tips['visit_date'].dt.month\n",
    "    )\n",
    "    # Example: 6–8 (Jun–Aug)\n",
    "    summer = tips.loc[tips['visit_month'].between(6, 8)]\n",
    "    display(summer[['visit_date','visit_month','total_bill','day']].head())\n",
    "else:\n",
    "    print(\"No 'visit_date' column available.\")"
   ]
  },
  {
   "cell_type": "markdown",
   "id": "2d11fe7c",
   "metadata": {},
   "source": [
    "## 5. `DataFrame.query()` — readable, SQL-ish filters"
   ]
  },
  {
   "cell_type": "code",
   "execution_count": null,
   "id": "2afe6f6e",
   "metadata": {},
   "outputs": [],
   "source": [
    "target_days = ['Sat','Sun']\n",
    "q1 = tips.query(\"total_bill >= 15 and day in @target_days\")\n",
    "display(q1.head())\n",
    "\n",
    "# Backticks for awkward names\n",
    "demo = tips.rename(columns={'total_bill':'total bill'})\n",
    "q2 = demo.query(\"`total bill` > 20 and tip > 3\")\n",
    "display(q2.head())"
   ]
  },
  {
   "cell_type": "markdown",
   "id": "b26fbcd1",
   "metadata": {},
   "source": [
    "**Instructor Note:** `.query()` shines for quick readability. For heavier Python logic (e.g., `.str.contains` with `na=False`), boolean masks remain clearer."
   ]
  },
  {
   "cell_type": "markdown",
   "id": "61788102",
   "metadata": {},
   "source": [
    "## 6. Chaining → Aggregation → Bar Chart"
   ]
  },
  {
   "cell_type": "code",
   "execution_count": null,
   "id": "b94e664a",
   "metadata": {},
   "outputs": [],
   "source": [
    "weekend_dinner_tip_pct = (\n",
    "    tips\n",
    "    .query(\"day in ['Sat','Sun'] and time == 'Dinner'\")\n",
    "    .assign(tip_pct=lambda d: d['tip'] / d['total_bill'] * 100)\n",
    "    .groupby('day', dropna=False)['tip_pct']\n",
    "    .mean()\n",
    "    .reset_index()\n",
    "    .sort_values('tip_pct', ascending=False)\n",
    ")\n",
    "display(weekend_dinner_tip_pct)"
   ]
  },
  {
   "cell_type": "code",
   "execution_count": null,
   "id": "0bfeb294",
   "metadata": {},
   "outputs": [],
   "source": [
    "(\n",
    "    tips['day']\n",
    "    .value_counts()\n",
    "    .sort_values(ascending=False)\n",
    "    .reset_index(name='count')\n",
    "    .rename(columns={'index':'day'})\n",
    "    .plot(kind='bar', x='day', y='count', legend=False, title='Rows per Day')\n",
    ");\n",
    "plt.show()"
   ]
  },
  {
   "cell_type": "markdown",
   "id": "079ebf54",
   "metadata": {},
   "source": [
    "## 7. Pitfalls & Fixes\n",
    "- `and`/`or` vs `&`/`|`: show the error, then fix.\n",
    "- Missing parentheses around combined conditions.\n",
    "- Chained indexing vs `.loc` (explain `SettingWithCopyWarning`).\n",
    "\n",
    "**Fix pattern:** `df.loc[mask, ['colA','colB']]`"
   ]
  },
  {
   "cell_type": "markdown",
   "id": "a0834a70",
   "metadata": {},
   "source": [
    "## 8. Mini-Exercises — **Instructor Solutions**"
   ]
  },
  {
   "cell_type": "markdown",
   "id": "bf870291",
   "metadata": {},
   "source": [
    "### Ex 1) Membership: Keep only weekend rows (Sat/Sun). Count by `time`."
   ]
  },
  {
   "cell_type": "code",
   "execution_count": null,
   "id": "7fb023bf",
   "metadata": {},
   "outputs": [],
   "source": [
    "# Boolean mask solution\n",
    "weekend_mask = tips['day'].isin(['Sat','Sun'])\n",
    "sol1_mask = tips.loc[weekend_mask].groupby('time').size().reset_index(name='count')\n",
    "display(sol1_mask)\n",
    "\n",
    "# query() solution\n",
    "sol1_query = tips.query(\"day in ['Sat','Sun']\").groupby('time').size().reset_index(name='count')\n",
    "display(sol1_query)"
   ]
  },
  {
   "cell_type": "markdown",
   "id": "5af07e89",
   "metadata": {},
   "source": [
    "### Ex 2) Range: Filter `total_bill` to its IQR; compare average `tip` across `day`."
   ]
  },
  {
   "cell_type": "code",
   "execution_count": null,
   "id": "1d89aea8",
   "metadata": {},
   "outputs": [],
   "source": [
    "q1, q3 = tips['total_bill'].quantile([0.25, 0.75])\n",
    "iqr_mask = tips['total_bill'].between(q1, q3)\n",
    "sol2 = tips.loc[iqr_mask].groupby('day')['tip'].mean().reset_index().sort_values('tip', ascending=False)\n",
    "display(sol2)"
   ]
  },
  {
   "cell_type": "markdown",
   "id": "bd57a36d",
   "metadata": {},
   "source": [
    "### Ex 3) Text: Case-insensitive contains `'day'` on `note` and show top 5 matches."
   ]
  },
  {
   "cell_type": "code",
   "execution_count": null,
   "id": "11c5abc7",
   "metadata": {},
   "outputs": [],
   "source": [
    "sol3 = tips.loc[tips['note'].str.contains('day', case=False, na=False), ['note','total_bill','tip','day','time']].head(5)\n",
    "display(sol3)"
   ]
  },
  {
   "cell_type": "markdown",
   "id": "35ce2990",
   "metadata": {},
   "source": [
    "### Ex 4) Dates: Subset to months 6–8 and plot rows per month."
   ]
  },
  {
   "cell_type": "code",
   "execution_count": null,
   "id": "48158077",
   "metadata": {},
   "outputs": [],
   "source": [
    "if 'visit_date' in tips.columns:\n",
    "    tips2 = tips.assign(visit_month=tips['visit_date'].dt.month)\n",
    "    sol4 = tips2.loc[tips2['visit_month'].between(6, 8)]\n",
    "    display(sol4['visit_month'].value_counts().sort_index())\n",
    "    sol4['visit_month'].value_counts().sort_index().plot(kind='bar', title='Rows by Month (Jun–Aug)'); plt.show()\n",
    "else:\n",
    "    print(\"No 'visit_date' available for this exercise.\")"
   ]
  },
  {
   "cell_type": "markdown",
   "id": "c3a2d15a",
   "metadata": {},
   "source": [
    "### Ex 5) Query vs Masks: Re-implement **Ex 1** using both approaches (already shown)."
   ]
  },
  {
   "cell_type": "code",
   "execution_count": null,
   "id": "ac1518d8",
   "metadata": {},
   "outputs": [],
   "source": [
    "# Already done above, but reiterate to contrast readability:\n",
    "mask_way = tips.loc[tips['day'].isin(['Sat','Sun'])].groupby('time').size()\n",
    "query_way = tips.query(\"day in ['Sat','Sun']\").groupby('time').size()\n",
    "display(mask_way, query_way)"
   ]
  },
  {
   "cell_type": "markdown",
   "id": "5f74a783",
   "metadata": {},
   "source": [
    "### Ex 6) Bonus: Create `tip_pct` and show top 10 by `tip_pct`."
   ]
  },
  {
   "cell_type": "code",
   "execution_count": null,
   "id": "2345cb83",
   "metadata": {},
   "outputs": [],
   "source": [
    "sol6 = (\n",
    "    tips\n",
    "    .assign(tip_pct=lambda d: d['tip'] / d['total_bill'] * 100)\n",
    "    .sort_values('tip_pct', ascending=False)\n",
    "    .loc[:, ['total_bill','tip','tip_pct','day','time','size','smoker','sex']]\n",
    "    .head(10)\n",
    ")\n",
    "display(sol6)"
   ]
  },
  {
   "cell_type": "markdown",
   "id": "349b0d1f",
   "metadata": {},
   "source": [
    "## 9. Ethical Wrangling Prompt (Instructor)\n",
    "- Which filters risk excluding specific groups (e.g., only weekend dinners)?\n",
    "- Are missing values clustered by a demographic feature (smoker/sex)?\n",
    "- Document your filtering decisions and potential impacts for later review."
   ]
  }
 ],
 "metadata": {},
 "nbformat": 4,
 "nbformat_minor": 5
}
