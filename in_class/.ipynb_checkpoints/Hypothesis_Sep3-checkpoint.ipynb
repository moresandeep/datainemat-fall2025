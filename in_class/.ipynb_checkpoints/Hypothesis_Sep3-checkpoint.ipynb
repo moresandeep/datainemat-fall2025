{
 "cells": [
  {
   "cell_type": "markdown",
   "id": "6197acc1-c48d-45d2-895c-18d65e608822",
   "metadata": {},
   "source": [
    "# Seasonality of Travel \n",
    "In this notebook we will test our hypothesis that Sandeep travels more in summer than in other seasons.\n",
    "\n",
    "## Formal Statement\n",
    "H₀: Tagged places are evenly distributed across seasons.<br> \n",
    "H₁: More tags occur during summer months (June–August).\n"
   ]
  },
  {
   "cell_type": "code",
   "execution_count": 1,
   "id": "f2fdf9cd-2e48-4bf3-b070-df59e514de99",
   "metadata": {},
   "outputs": [],
   "source": [
    "# 0) Jupyter plotting backend\n",
    "%matplotlib inline\n",
    "\n",
    "import json\n",
    "import pandas as pd\n",
    "from datetime import datetime\n",
    "from scipy.stats import chisquare\n",
    "# conda install matplotlib\n",
    "import matplotlib.pyplot as plt"
   ]
  },
  {
   "cell_type": "markdown",
   "id": "6184362c-e321-44ab-b5bd-0f5b4e900734",
   "metadata": {},
   "source": [
    "Load the data (places_you_have_been_tagged_in.json) file"
   ]
  },
  {
   "cell_type": "code",
   "execution_count": 2,
   "id": "f546d14f-9442-4c9c-93da-2364925091c9",
   "metadata": {},
   "outputs": [],
   "source": [
    "# Load file\n",
    "with open(\"/Users/smore/dev/data/social_media/facebook-moresandeep-2025-08-25-f8PW7lFz/your_facebook_activity/posts/places_you_have_been_tagged_in.json\") as f:\n",
    "    data = json.load(f)"
   ]
  },
  {
   "cell_type": "markdown",
   "id": "fa03ed08-6dcf-4c5c-9e02-2391adea26f0",
   "metadata": {},
   "source": [
    "Convert the data into pandas DataFrame"
   ]
  },
  {
   "cell_type": "code",
   "execution_count": 3,
   "id": "173ca4d1-b574-4e70-9776-18e9b0cd26d9",
   "metadata": {},
   "outputs": [
    {
     "data": {
      "text/html": [
       "<div>\n",
       "<style scoped>\n",
       "    .dataframe tbody tr th:only-of-type {\n",
       "        vertical-align: middle;\n",
       "    }\n",
       "\n",
       "    .dataframe tbody tr th {\n",
       "        vertical-align: top;\n",
       "    }\n",
       "\n",
       "    .dataframe thead th {\n",
       "        text-align: right;\n",
       "    }\n",
       "</style>\n",
       "<table border=\"1\" class=\"dataframe\">\n",
       "  <thead>\n",
       "    <tr style=\"text-align: right;\">\n",
       "      <th></th>\n",
       "      <th>time</th>\n",
       "      <th>place</th>\n",
       "      <th>app</th>\n",
       "    </tr>\n",
       "  </thead>\n",
       "  <tbody>\n",
       "    <tr>\n",
       "      <th>0</th>\n",
       "      <td>2024-07-27 14:23:01</td>\n",
       "      <td>Fisherman's Bastion - Budapest</td>\n",
       "      <td>Facebook for iPhone</td>\n",
       "    </tr>\n",
       "    <tr>\n",
       "      <th>1</th>\n",
       "      <td>2024-07-24 05:20:14</td>\n",
       "      <td>Vienna Film Festival</td>\n",
       "      <td>Facebook for iPhone</td>\n",
       "    </tr>\n",
       "    <tr>\n",
       "      <th>2</th>\n",
       "      <td>2024-07-22 05:53:06</td>\n",
       "      <td>KrakÃ³w, Poland</td>\n",
       "      <td>Facebook for iPhone</td>\n",
       "    </tr>\n",
       "    <tr>\n",
       "      <th>3</th>\n",
       "      <td>2024-07-22 05:19:16</td>\n",
       "      <td>Prague, Czech Republic</td>\n",
       "      <td>Facebook for iPhone</td>\n",
       "    </tr>\n",
       "    <tr>\n",
       "      <th>4</th>\n",
       "      <td>2024-07-22 05:17:59</td>\n",
       "      <td>Stare Miasto Krakow</td>\n",
       "      <td>Facebook for iPhone</td>\n",
       "    </tr>\n",
       "  </tbody>\n",
       "</table>\n",
       "</div>"
      ],
      "text/plain": [
       "                 time                           place                  app\n",
       "0 2024-07-27 14:23:01  Fisherman's Bastion - Budapest  Facebook for iPhone\n",
       "1 2024-07-24 05:20:14            Vienna Film Festival  Facebook for iPhone\n",
       "2 2024-07-22 05:53:06                 KrakÃ³w, Poland  Facebook for iPhone\n",
       "3 2024-07-22 05:19:16          Prague, Czech Republic  Facebook for iPhone\n",
       "4 2024-07-22 05:17:59             Stare Miasto Krakow  Facebook for iPhone"
      ]
     },
     "execution_count": 3,
     "metadata": {},
     "output_type": "execute_result"
    }
   ],
   "source": [
    "# Extract relevant fields\n",
    "records = []\n",
    "for entry in data:\n",
    "    visit_time = None\n",
    "    place = None\n",
    "    app = None\n",
    "    for item in entry.get(\"label_values\", []):\n",
    "        if item[\"label\"] == \"Visit time\":\n",
    "            visit_time = datetime.fromtimestamp(item[\"timestamp_value\"])\n",
    "        elif item[\"label\"] == \"Place name\":\n",
    "            place = item[\"value\"]\n",
    "        elif item[\"label\"] == \"Name of application used to tag this place\":\n",
    "            app = item[\"value\"]\n",
    "    if visit_time:\n",
    "        records.append({\"time\": visit_time, \"place\": place, \"app\": app})\n",
    "\n",
    "df = pd.DataFrame(records)\n",
    "\n",
    "df.head(5)"
   ]
  },
  {
   "cell_type": "markdown",
   "id": "87c3dc9c-c245-40fb-baae-ef8824f102db",
   "metadata": {},
   "source": [
    "\"Enrich\" our data by adding year and season information"
   ]
  },
  {
   "cell_type": "code",
   "execution_count": 6,
   "id": "329d79e9-93cf-4f56-be41-28818eee682c",
   "metadata": {},
   "outputs": [
    {
     "data": {
      "text/html": [
       "<div>\n",
       "<style scoped>\n",
       "    .dataframe tbody tr th:only-of-type {\n",
       "        vertical-align: middle;\n",
       "    }\n",
       "\n",
       "    .dataframe tbody tr th {\n",
       "        vertical-align: top;\n",
       "    }\n",
       "\n",
       "    .dataframe thead th {\n",
       "        text-align: right;\n",
       "    }\n",
       "</style>\n",
       "<table border=\"1\" class=\"dataframe\">\n",
       "  <thead>\n",
       "    <tr style=\"text-align: right;\">\n",
       "      <th></th>\n",
       "      <th>time</th>\n",
       "      <th>place</th>\n",
       "      <th>app</th>\n",
       "      <th>year</th>\n",
       "      <th>month</th>\n",
       "      <th>season</th>\n",
       "    </tr>\n",
       "  </thead>\n",
       "  <tbody>\n",
       "    <tr>\n",
       "      <th>0</th>\n",
       "      <td>2024-07-27 14:23:01</td>\n",
       "      <td>Fisherman's Bastion - Budapest</td>\n",
       "      <td>Facebook for iPhone</td>\n",
       "      <td>2024</td>\n",
       "      <td>7</td>\n",
       "      <td>Summer</td>\n",
       "    </tr>\n",
       "    <tr>\n",
       "      <th>1</th>\n",
       "      <td>2024-07-24 05:20:14</td>\n",
       "      <td>Vienna Film Festival</td>\n",
       "      <td>Facebook for iPhone</td>\n",
       "      <td>2024</td>\n",
       "      <td>7</td>\n",
       "      <td>Summer</td>\n",
       "    </tr>\n",
       "    <tr>\n",
       "      <th>2</th>\n",
       "      <td>2024-07-22 05:53:06</td>\n",
       "      <td>KrakÃ³w, Poland</td>\n",
       "      <td>Facebook for iPhone</td>\n",
       "      <td>2024</td>\n",
       "      <td>7</td>\n",
       "      <td>Summer</td>\n",
       "    </tr>\n",
       "    <tr>\n",
       "      <th>3</th>\n",
       "      <td>2024-07-22 05:19:16</td>\n",
       "      <td>Prague, Czech Republic</td>\n",
       "      <td>Facebook for iPhone</td>\n",
       "      <td>2024</td>\n",
       "      <td>7</td>\n",
       "      <td>Summer</td>\n",
       "    </tr>\n",
       "    <tr>\n",
       "      <th>4</th>\n",
       "      <td>2024-07-22 05:17:59</td>\n",
       "      <td>Stare Miasto Krakow</td>\n",
       "      <td>Facebook for iPhone</td>\n",
       "      <td>2024</td>\n",
       "      <td>7</td>\n",
       "      <td>Summer</td>\n",
       "    </tr>\n",
       "  </tbody>\n",
       "</table>\n",
       "</div>"
      ],
      "text/plain": [
       "                 time                           place                  app  \\\n",
       "0 2024-07-27 14:23:01  Fisherman's Bastion - Budapest  Facebook for iPhone   \n",
       "1 2024-07-24 05:20:14            Vienna Film Festival  Facebook for iPhone   \n",
       "2 2024-07-22 05:53:06                 KrakÃ³w, Poland  Facebook for iPhone   \n",
       "3 2024-07-22 05:19:16          Prague, Czech Republic  Facebook for iPhone   \n",
       "4 2024-07-22 05:17:59             Stare Miasto Krakow  Facebook for iPhone   \n",
       "\n",
       "   year  month  season  \n",
       "0  2024      7  Summer  \n",
       "1  2024      7  Summer  \n",
       "2  2024      7  Summer  \n",
       "3  2024      7  Summer  \n",
       "4  2024      7  Summer  "
      ]
     },
     "execution_count": 6,
     "metadata": {},
     "output_type": "execute_result"
    }
   ],
   "source": [
    "# Add year and season\n",
    "df[\"year\"] = df[\"time\"].dt.year\n",
    "df[\"month\"] = df[\"time\"].dt.month\n",
    "df[\"season\"] = pd.cut(df[\"month\"], bins=[0, 3, 6, 9, 12], labels=[\"Winter\", \"Spring\", \"Summer\", \"Fall\"], right=True)\n",
    "\n",
    "df.head(5)"
   ]
  },
  {
   "cell_type": "markdown",
   "id": "eb9fdd07-25c8-4cf7-bdb2-d763f071e429",
   "metadata": {},
   "source": [
    "Let us count tags per season"
   ]
  },
  {
   "cell_type": "code",
   "execution_count": null,
   "id": "53268b40-2d9d-43de-88ce-24037bff2183",
   "metadata": {},
   "outputs": [],
   "source": [
    "season_counts = df[\"season\"].value_counts()\n",
    "print(season_counts)"
   ]
  },
  {
   "cell_type": "markdown",
   "id": "d410d7c9-56a1-47af-be27-6f1da6a99fb3",
   "metadata": {},
   "source": [
    "## Hypothesis test: Are tags evenly distributed across seasons?"
   ]
  },
  {
   "cell_type": "code",
   "execution_count": null,
   "id": "2a501d70-a36c-485b-9652-b5f48b04bc84",
   "metadata": {},
   "outputs": [],
   "source": [
    "chi2, p_val = chisquare(season_counts)\n",
    "print(\"Chi-square:\", chi2, \"p-value:\", p_val)"
   ]
  },
  {
   "cell_type": "markdown",
   "id": "8127bf35-c5f3-431e-8c30-e59ab885178c",
   "metadata": {},
   "source": [
    "If p < 0.05, reject H₀ → tagging is not evenly distributed (e.g., more in summer). <br>\n",
    "If p ≥ 0.05, fail to reject H₀ → no strong seasonal pattern."
   ]
  },
  {
   "cell_type": "markdown",
   "id": "ea0a5af0-bd73-4ace-8114-000d87f10dd3",
   "metadata": {},
   "source": [
    "## What the test means\n",
    "A chi-square test compares what you actually saw (number of tags in each season) vs. what you would expect if things were evenly spread out. <br>\n",
    "The p-value tells us how surprising the difference is.\n",
    "\n",
    "Chi-square = 11.37 → this is the “size” of the difference between observed and expected counts. <br>\n",
    "p-value = 0.0099 → this number is less than 0.05.\n",
    "\n",
    "## Conclusion\n",
    "Since p < 0.05, we reject the null hypothesis (H₀).<br>\n",
    "This means: my tags are not evenly distributed across the year.<br>\n",
    "\n",
    "It means “I got tagged in places more in some seasons (like summer) than others — so there’s a seasonal pattern in my travel/posts.”"
   ]
  },
  {
   "cell_type": "markdown",
   "id": "8209e1d0-ce03-4fcf-806b-eef56f33b671",
   "metadata": {},
   "source": [
    "# Bonus \n",
    "Let us do some visualizations\n",
    "\n",
    "#### Pre-processing\n"
   ]
  },
  {
   "cell_type": "code",
   "execution_count": 7,
   "id": "59596064-f4f9-492e-9c67-db189e1ee29c",
   "metadata": {},
   "outputs": [],
   "source": [
    "# Ensure the season column is ordered (so columns don't shuffle)\n",
    "season_order = [\"Winter\",\"Spring\",\"Summer\",\"Fall\"]\n",
    "df[\"season\"] = pd.Categorical(df[\"season\"], categories=season_order, ordered=True)\n",
    "\n",
    "# Year x Season counts (simple!)\n",
    "heat = pd.crosstab(df[\"year\"], df[\"season\"], dropna=False)\n"
   ]
  },
  {
   "cell_type": "markdown",
   "id": "e9fb0562-7cd0-4d44-92c9-0c2917c9f5ac",
   "metadata": {},
   "source": [
    "#### Heatmap"
   ]
  },
  {
   "cell_type": "code",
   "execution_count": 8,
   "id": "fed576da-23dc-4daa-bd25-e291d7c38744",
   "metadata": {},
   "outputs": [
    {
     "data": {
      "image/png": "[encoded data removed]",
      "text/plain": [
       "<Figure size 800x500 with 2 Axes>"
      ]
     },
     "metadata": {},
     "output_type": "display_data"
    },
    {
     "name": "stdout",
     "output_type": "stream",
     "text": [
      "season  Winter  Spring  Summer  Fall\n",
      "year                                \n",
      "2008         0       0       0     1\n",
      "2010         0       0       0     3\n",
      "2011         2       2       3     4\n",
      "2012         1       2       1     0\n",
      "2013         2       7       5     1\n",
      "2014         4       6       1     5\n",
      "2015         2       3       1     7\n",
      "2016         2       0       1     3\n",
      "2017         1       0       4     2\n",
      "2018         0       2       1     0\n",
      "2019         0       0       2     0\n",
      "2023         0      15       0     1\n",
      "2024         0       1       5     0\n"
     ]
    }
   ],
   "source": [
    "# Plot\n",
    "plt.figure(figsize=(8,5))\n",
    "plt.imshow(heat, aspect=\"auto\")\n",
    "plt.xticks(range(len(heat.columns)), heat.columns)\n",
    "plt.yticks(range(len(heat.index)), heat.index)\n",
    "plt.colorbar(label=\"Number of places tagged\")\n",
    "plt.title(\"Heatmap of Places Tagged by Year and Season\")\n",
    "plt.xlabel(\"Season\"); plt.ylabel(\"Year\")\n",
    "plt.show()\n",
    "\n",
    "print(heat)"
   ]
  },
  {
   "cell_type": "code",
   "execution_count": null,
   "id": "ceed91bc-4e2b-4c4b-94f9-62672da8f1b4",
   "metadata": {},
   "outputs": [],
   "source": []
  }
 ],
 "metadata": {
  "kernelspec": {
   "display_name": "Python 3 (ipykernel)",
   "language": "python",
   "name": "python3"
  },
  "language_info": {
   "codemirror_mode": {
    "name": "ipython",
    "version": 3
   },
   "file_extension": ".py",
   "mimetype": "text/x-python",
   "name": "python",
   "nbconvert_exporter": "python",
   "pygments_lexer": "ipython3",
   "version": "3.12.11"
  }
 },
 "nbformat": 4,
 "nbformat_minor": 5
}
