{
 "cells": [
  {
   "cell_type": "markdown",
   "id": "ffe795b7",
   "metadata": {},
   "source": [
    "# Syntax Candy: Select, Filter & Query\n",
    "*Wrangling with expressive pandas patterns*"
   ]
  },
  {
   "cell_type": "markdown",
   "id": "dedeac3d",
   "metadata": {},
   "source": [
    "## 1. Load & Peek"
   ]
  },
  {
   "cell_type": "code",
   "execution_count": null,
   "id": "34e62e21",
   "metadata": {},
   "outputs": [],
   "source": [
    "import pandas as pd\n",
    "import numpy as np\n",
    "import matplotlib.pyplot as plt\n",
    "\n",
    "# Load data\n",
    "df = pd.read_csv('/mnt/data/cces_example_data.csv', low_memory=False)\n",
    "df.head()"
   ]
  },
  {
   "cell_type": "code",
   "execution_count": null,
   "id": "cfaa6521",
   "metadata": {},
   "outputs": [],
   "source": [
    "df.info()"
   ]
  },
  {
   "cell_type": "code",
   "execution_count": null,
   "id": "9b40dac0",
   "metadata": {},
   "outputs": [],
   "source": [
    "df.describe(include='all').T.head(20)"
   ]
  },
  {
   "cell_type": "markdown",
   "id": "18f3343b",
   "metadata": {},
   "source": [
    "## 2. Column Selection: `[]`, `.loc`, `.iloc`, `.filter`, `select_dtypes`\n",
    "We’ll pick columns by name patterns and data types."
   ]
  },
  {
   "cell_type": "code",
   "execution_count": null,
   "id": "b8518cd6",
   "metadata": {},
   "outputs": [],
   "source": [
    "# Quick single & multi-column selection\n",
    "one = df['〈no_categorical_column〉'] if '〈no_categorical_column〉' in df.columns else None\n",
    "subset = df[[c for c in ['〈no_categorical_column〉', 'age'] if c in df.columns]]\n",
    "subset.head()"
   ]
  },
  {
   "cell_type": "code",
   "execution_count": null,
   "id": "c3a83c6c",
   "metadata": {},
   "outputs": [],
   "source": [
    "# Pattern-based column selection\n",
    "df.filter(like=\"id\").head()  # tweak 'id' to a useful substring in your dataset"
   ]
  },
  {
   "cell_type": "code",
   "execution_count": null,
   "id": "9bd7ff76",
   "metadata": {},
   "outputs": [],
   "source": [
    "# By dtype\n",
    "numeric_only = df.select_dtypes(include=\"number\").head()\n",
    "numeric_only.head()"
   ]
  },
  {
   "cell_type": "code",
   "execution_count": null,
   "id": "0141bdc7",
   "metadata": {},
   "outputs": [],
   "source": [
    "# Label vs position\n",
    "first_five_cols = df.columns[:5].tolist()\n",
    "df.loc[:10, first_five_cols]  # first 11 rows by label, selected columns\n",
    "\n",
    "# Position-based (be careful with meaning)\n",
    "df.iloc[:10, :5]"
   ]
  },
  {
   "cell_type": "markdown",
   "id": "cee83370",
   "metadata": {},
   "source": [
    "## 3. Row Filtering with Boolean Masks\n",
    "Remember: use `&` and `|` (not `and`/`or`), and wrap conditions in parentheses."
   ]
  },
  {
   "cell_type": "code",
   "execution_count": null,
   "id": "7e9b5944",
   "metadata": {},
   "outputs": [],
   "source": [
    "# Equality / range (if columns exist)\n",
    "mask_parts = []\n",
    "if 'age' in df.columns:\n",
    "    s = pd.to_numeric(df['age'], errors=\"coerce\")\n",
    "    q = s.quantile([0.25, 0.75]).tolist() if s.notna().any() else [None, None]\n",
    "    if q[0] is not None:\n",
    "        mask_parts.append((s.between(q[0], q[1])))\n",
    "if '〈no_categorical_column〉' in df.columns:\n",
    "    topcats = df['〈no_categorical_column〉'].dropna().value_counts().head(3).index.tolist()\n",
    "    if topcats:\n",
    "        mask_parts.append(df['〈no_categorical_column〉'].isin(topcats))\n",
    "mask = None\n",
    "for m in mask_parts:\n",
    "    mask = m if mask is None else (mask & m)\n",
    "filtered = df.loc[mask] if mask is not None else df.copy()\n",
    "filtered.head()"
   ]
  },
  {
   "cell_type": "code",
   "execution_count": null,
   "id": "9dd1f2ef",
   "metadata": {},
   "outputs": [],
   "source": [
    "# Not/Null-safe filtering\n",
    "has_text = df.select_dtypes(include=[\"object\",\"string\",\"category\"]).columns.tolist()\n",
    "if has_text:\n",
    "    col = has_text[0]\n",
    "    df.loc[df[col].notna() & df[col].str.contains(\"a\", case=False, na=False)].head()\n",
    "else:\n",
    "    df.head()"
   ]
  },
  {
   "cell_type": "markdown",
   "id": "f2652176",
   "metadata": {},
   "source": [
    "## 4. Dates & Text Helpers"
   ]
  },
  {
   "cell_type": "code",
   "execution_count": null,
   "id": "3b13bf6d",
   "metadata": {},
   "outputs": [],
   "source": [
    "\n",
    "# No natural date columns found; create a synthetic date spreading rows across months\n",
    "N = len(df)\n",
    "base = pd.Timestamp(\"2020-01-01\")\n",
    "df['synthetic_date'] = [base + pd.Timedelta(days=int(i % 730)) for i in range(N)]\n",
    "\n",
    "# Use the date column\n",
    "dcol = 'synthetic_date'\n",
    "if dcol in df.columns:\n",
    "    # Year / month filters\n",
    "    year = df[dcol].dt.year\n",
    "    month = df[dcol].dt.month\n",
    "    # Keep a 2-year window if possible\n",
    "    lo = int(year.dropna().quantile(0.10)) if year.notna().any() else 2020\n",
    "    hi = int(year.dropna().quantile(0.90)) if year.notna().any() else 2021\n",
    "    df_date_filtered = df.loc[year.between(lo, hi)]\n",
    "    df_date_filtered.head()\n",
    "else:\n",
    "    df.head()"
   ]
  },
  {
   "cell_type": "markdown",
   "id": "95732bc5",
   "metadata": {},
   "source": [
    "## 5. `DataFrame.query()` — SQL‑ish Filters\n",
    "Use `@` to reference Python variables; backticks for odd column names."
   ]
  },
  {
   "cell_type": "code",
   "execution_count": null,
   "id": "a25a7894",
   "metadata": {},
   "outputs": [],
   "source": [
    "# Prepare a small variable for membership\n",
    "state_like = '〈no_state_like〉'\n",
    "target_vals = []\n",
    "if state_like in df.columns:\n",
    "    target_vals = df[state_like].dropna().astype(str).value_counts().head(3).index.tolist()\n",
    "\n",
    "# Example query (falls back safely if columns missing)\n",
    "exprs = []\n",
    "if 'age' in df.columns:\n",
    "    exprs.append('age' + \" >= 0\")  # harmless lower bound\n",
    "if state_like in df.columns and target_vals:\n",
    "    exprs.append(\"`\" + state_like + \"` in @target_vals\")\n",
    "query_expr = \" and \".join(exprs) if exprs else \"index >= 0\"\n",
    "df.query(query_expr).head()"
   ]
  },
  {
   "cell_type": "markdown",
   "id": "312ca98b",
   "metadata": {},
   "source": [
    "## 6. From Subset to Bar Chart"
   ]
  },
  {
   "cell_type": "code",
   "execution_count": null,
   "id": "63548ff7",
   "metadata": {},
   "outputs": [],
   "source": [
    "cat = '〈no_categorical_column〉'\n",
    "if cat in df.columns:\n",
    "    top = (\n",
    "        df[cat]\n",
    "        .astype(str)\n",
    "        .pipe(lambda s: s[s.notna()])\n",
    "        .value_counts()\n",
    "        .head(10)\n",
    "        .reset_index()\n",
    "        .rename(columns={\"index\": cat, cat: \"n\"})\n",
    "    )\n",
    "    top.plot(kind=\"bar\", x=cat, y=\"n\", legend=False, rot=45, title=f\"Top 10 values in {cat}\")\n",
    "else:\n",
    "    import matplotlib.pyplot as plt\n",
    "    plt.figure()\n",
    "    plt.title(\"No categorical column available for bar chart\")\n",
    "    plt.plot([0,1,2],[1,2,3])\n"
   ]
  },
  {
   "cell_type": "markdown",
   "id": "9d8f4ca8",
   "metadata": {},
   "source": [
    "## 7. Common Pitfalls\n",
    "- Use `&`/`|`, not `and`/`or`\n",
    "- Always parenthesize combined conditions\n",
    "- Prefer `.loc`/`.iloc` over chained indexing\n",
    "- Null‑aware string filters: `na=False`\n",
    "- Backticks in `query()` for awkward column names"
   ]
  },
  {
   "cell_type": "markdown",
   "id": "31a79b1a",
   "metadata": {},
   "source": [
    "## 8. Mini‑Exercises (Try Now)\n",
    "1) **Membership:** pick a categorical column (e.g., `〈no_state_like〉` if present) and keep 2–3 values.\n",
    "2) **Range:** choose a numeric column (e.g., `age`) and filter to its interquartile range.\n",
    "3) **Text:** run a case‑insensitive `.str.contains()` on a text column.\n",
    "4) **Dates:** subset the `synthetic_date` column to a 12‑month window and count rows per month.\n",
    "5) **Query vs Masks:** implement (2) and (1) with both boolean masks and `.query()`.\n",
    "\n",
    "> Add a final bar chart from your subset: `.groupby(col).size().reset_index(name='n')` then plot.\n"
   ]
  }
 ],
 "metadata": {},
 "nbformat": 4,
 "nbformat_minor": 5
}
