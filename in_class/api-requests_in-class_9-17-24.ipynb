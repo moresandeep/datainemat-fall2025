{
 "cells": [
  {
   "cell_type": "code",
   "execution_count": 11,
   "id": "0ea6f136-d942-46de-b855-59d2dfb0ebfc",
   "metadata": {},
   "outputs": [],
   "source": [
    "import pandas as pd\n",
    "import json as js\n",
    "import requests\n",
    "from io import StringIO"
   ]
  },
  {
   "cell_type": "markdown",
   "id": "12e4abc1-5f41-48a7-af95-ea7ddf9c23ec",
   "metadata": {},
   "source": [
    "# Prereq\n",
    "`conda install lxml`\n",
    "`conda install html5lib`"
   ]
  },
  {
   "cell_type": "code",
   "execution_count": 19,
   "id": "f34594dd-4752-4be1-ba54-fc6612216301",
   "metadata": {},
   "outputs": [],
   "source": [
    "url_wiki = \"https://en.wikipedia.org/w/api.php\"\n",
    "params = {\n",
    "    \"action\": \"query\",\n",
    "    \"format\": \"json\",\n",
    "    \"titles\": \"List of Triumph motorcycles\",\n",
    "    \"prop\": \"wikitext\",\n",
    "    \"prop\": \"revisions\",\n",
    "    \"rvprop\": \"content\",\n",
    "    \"rvslots\": \"main\"\n",
    "\n",
    "}\n",
    "\n",
    "headers = {\n",
    "    \"User-Agent\": \"EMAT-Teaching/1.0 (+contact@example.com)\"\n",
    "}"
   ]
  },
  {
   "cell_type": "code",
   "execution_count": 25,
   "id": "91430507-7a3f-4863-a811-a46eaa6d7b9c",
   "metadata": {},
   "outputs": [
    {
     "name": "stdout",
     "output_type": "stream",
     "text": [
      "{\"batchcomplete\":\"\",\"query\":{\"pages\":{\"5853001\":{\"pageid\":5853001,\"ns\":0,\"title\":\"List of Triumph motorcycles\",\"revisions\":[{\"slots\":{\"main\":{\"contentmodel\":\"wikitext\",\"contentformat\":\"text/x-wiki\",\"*\":\"{{Short description|none}}\\n{{Use dmy dates|date=January 2017}}\\n{{Use British English|date=January 2017}}\\n{{original research|date=March 2014}}\\nMotorcycles produced under the Triumph brand, by both the original company, [[Triumph Engineering Co Ltd]], and its later incarnations, and the current [[Triumph Motorcycles Ltd]].\\n\\n==Triumph Engineering Co Ltd==\\nKnown as the [[Meriden, West Midlands]], UK era, 1902\\u20131983.\\n\\n===Pre-war===\\n{| class=\\\"sortable to ccolours\\\" border=\\\"1\\\" cellpadding=\\\"4\\\" style=\\\"border-collapse:collapse\\\"\\n|-style=\\\"background:#dedede;\\\"\\n|'''Model'''\\n|'''Engine displacement [cm<sup>3</sup>]'''\\n|'''Production time'''\\n|'''Notes'''\\n|-\\n|First model\\n|\\n|1902\\u20131904\\n|used Minerva, JAP and Fafnir engines\\n|-\\n|Second Model\\n|\\n|1905\\n|Triumph used their own engine for the first time, 250 were made, 3&nbsp;hp\\n|-\\n|Model\\n|474\\n|1908\\u20131909\\n|production up to 3000 in 1909\\n|-\\n|Model Roadster\\n|500\\n|1910\\u20131913\\n||single speed, optional rear hub clutch as the 'free engine' model\\n|-\\n|Model C\\n|550\\n|1913\\u20131914\\n|Three speed Sturmey Archer rear wheel hub\\n|-\\n|Model TT\\n|500\\n|1909\\u20131914\\n|short wheelbase and no pedals. Types, D, F and K\\n|-\\n|[[Triumph Model H|Model H]]\\n|550\\n|1915\\u20131926\\n|Fitted with a three speed Sturmey Archer gearbox\\n|-\\n|Model SD\\n|550\\n|1920\\u20131926\\n|The SD(Spring Drive)SV, three speed Triumph gearbox \\n|-\\n|Model R\\n|500\\n|1921\\u20131926\\n|Designed by Harry Ricardo. OHV with a 4 valve head\\n|-\\n|Model P\\n|500\\n|1925\\u20131926\\n|made down to the price of \\u00a342.17.6\\n|-\\n|Model N\\n|500\\n|1928\\n|\\u00a346\\n|-\\n|Model X\\n|150 and 175\\n|1930\\u20131934\\n|\\n|-\\n|Model WO\\n|250\\n|1931-33\\n|Twin Port Sloper (1100 made), OHV\\n|-\\n|XO\\n|150\\n|1933\\n|OHV\\n|-\\n|2/1 & 2/L1 (Light Weight)\\n|250\\n|1934\\u20131936\\n|OHV single\\n|-\\n|[[Triumph 6/1|6/1]]\\n|650\\n|1933\\u20131935\\n|Parallel twin. Predates the \\\"Turner Twins\\\". Scrapped when Turner came in, the design later resurfaced, modified, as the BSA A10.\\n|-\\n|2H, 2H, 3S, 3SC, 3SE, 3H, 5H, 6S,\\n|\\n|1937\\u20131940\\n|\\n|-\\n|Tiger 70\\n|249\\n|1937\\u20131940\\n|OHV single\\n|-\\n|[[Triumph Tiger 80|Tiger 80]]\\n|349\\n|1937\\u20131940\\n|OHV single\\n|-\\n|Tiger 90\\n|497\\n|1937\\u20131940\\n|OHV single\\n|-\\n|[[Triumph Speed Twin|5T Speed Twin]]\\n|498\\n|1937-40,1946\\u201358\\n|parallel twin, OHV\\n|-\\n|[[Triumph Tiger 100|Tiger 100]]\\n|498\\n|1938-40,1946\\u201359\\n|\\n|-\\n|2HC\\n|250\\n|1938\\u20131939\\n|C stands for coil ignition\\n|-\\n|}\\n\\n===Post-war===\\n{| class=\\\"sortable to ccolours\\\" border=\\\"1\\\" cellpadding=\\\"4\\\" style=\\\"border-collapse:collapse\\\"\\n|-style=\\\"background:#dedede;\\\"\\n|'''Model'''\\n|'''Engine displacement [cm<sup>3</sup>]'''\\n|'''Production time'''\\n|'''Notes'''\\n|-\\n|Triumph Grand Prix 500&nbsp;cc OHV|Triumph Grand Prix 500&nbsp;cc OHV\\n|500\\n|1947\\u20131949\\n|Used an all alloy stationary engine, designed to power military generators during the war.\\n|-\\n|[[Triumph TR5 Trophy|TR5 Trophy]]\\n|500\\n|1949\\u20131958\\n| Competition bike winner of ISDT Trophy for 4 years\\n|-\\n|Triumph TRW500\\n|500\\n|1950\\u20131964\\n| Side valve military production motorcycle\\n|-\\n|[[Triumph Thunderbird|6T Thunderbird]]\\n|650\\n|\\n|twin\\n|-\\n|3TA or [[Triumph Twenty One]]\\n|350\\n|1957\\u20131966\\n|First 350&nbsp;cc [[unit construction]] machine and debut of the distinctive \\\"bath-tub\\\". Alternator electrical system. \\n|-\\n|5TA or [[Triumph Speed Twin]]\\n|500\\n|1957\\u20131966\\n|First 500&nbsp;cc '[[unit construction]]' machine. Alternator electrical system.\\n|-\\n|[[Triumph Twenty One|T90]]\\n|350\\n|1963\\u20131969\\n|\\\"Tiger 90\\\", sports version of the 3TA (still single carburettor). (Note, there'd been an earlier Tiger 90, a 500&nbsp;cc in 1937).\\n|-\\n|[[Triumph Tiger 100|T100]]\\n|500\\n|1959\\n|Sports version of the 5T \\\"Speed Twin\\\"\\n|-\\n|T100A\\n|\\n|1960\\u20131961\\n|Sports version of the 5TA, first Tiger with '[[unit construction]]', 'bathtub' rear enclosure\\n|-\\n|T100SS\\n|\\n|1962\\u20131968?\\n|Sports version of the 5TA\\n|-\\n|T100S Tiger Sports\\n|\\n|-\\n|T100SR\\n|500\\n|1963\\u20131966 \\n|'Sports Road', Sherbourne Green over Alaskan White paint, white hand grips.<ref name=\\\"Triumph C Range\\\">{{cite web |url=http://www.triumph-tiger-90.com/ |title=The Triumph C Range 1957-1974 Year on Year |website= www.triumph-tiger-90.com |accessdate=11 July 2025}} Specifications for the Triumph 350cc and 500cc Machines 1957-1974.</ref>\\n|-\\n|T100S Tiger Sports\\n|\\n|-\\n|T100P\\n|500\\n|1967?\\u20131973\\n|Police version of the unit construction T100. A 1973 T100P was ridden around the world by Ted Simon, documented in his book \\\"Jupiter's Travels\\\".\\n|\\n|-\\n|[[Triumph Tiger Daytona|T100R Daytona]]\\n|500\\n|1966\\u20131974\\n|Road version of the racing twin. Built as an answer to Honda's 444&nbsp;cc Black Bomber. Tested at 110+mph, topped 150 in race trim.\\n|-\\n|[[Triumph Tiger T110|T110 Tiger]]\\n|650\\n|\\n|Sports model capable of 110&nbsp;mph\\n|-\\n|[[Triumph TR5 Trophy|TR5T Adventurer/Trophy Trail]]\\n|500\\n|1972\\u20131974\\n|On/off-road style\\n|-\\n|TR25W Trophy 250\\n|250\\n|1968\\u20131970\\n|Single-cylinder engine based on the BSA B25 Starfire (not the Tiger Cub. The starfire/C15 was a development of the Tiger cub engine.).\\n|-\\n|T100C Trophy\\n|500\\n|1966\\u20131972 \\n|single carb. Mainly for export to the USA\\n|-\\n|[[Triumph TR6 Trophy|TR6 Trophy]]\\n|650\\n|1956\\u20131968\\n|Single carburetor model.\\n|-\\n|[[Triumph TR6 Trophy|TR6C Trophy]]\\n|650\\n|\\n|C is the 'Competition' Model. High pipes on left side. Frequently referred to as desert sleds when used for racing in the Western US. Lower overall gear ratios. \\n|-\\n|TR6P Saint\\n|650\\n|1967\\u20131973\\n|Police version of the unit construction Trophy. Named the \\\"Saint\\\", an acronym for \\\"Stop Anything In No Time\\\".\\n|-\\n|[[TR6R Tiger]]\\n|650\\n|1969-72\\n|R is \\\"Road\\\" Model. Trophy renamed Tiger for the 650cc single carb as distinguished from the twin carb of the Bonneville (TR120) 650cc. \\n|500cc Tiger single carb renamed Trophy.\\n|-\\n|TR7V Tiger\\n|750\\n|thru78\\n|Almost identical to the T140; differentiated by the Tiger having a single (as opposed to twin) carburettor.  Other differences being cosmetic. \\\"V\\\" identifies 5 speed gearbox.\\n|-\\n|Terrier\\n|150\\n|1953\\u20131956\\n|Triumph's first unit-construction engine.\\n|-\\n|[[Triumph Tiger Cub|Tiger Cub]]\\n|200\\n|1954\\u20131968\\n|Single-cylinder based on the Terrier.\\n|-\\n|[[Triumph Bonneville|T120 Bonneville]]\\n|650\\n|\\n|Descended directly from the Tiger 110. Twin Carburettor.\\n|-\\n|Thruxton Bonneville\\n|\\n|Built May 1965\\n|Production racer (52 total machines built)\\n|-\\n|[[Triumph Bonneville T140|T140 Bonneville]]\\n|750\\n|1973\\u20131983\\n|Produced at the Meriden factory and after its closure, for a short time in Devon.\\n|-\\n|[[Triumph Tina|Tina Scooter]] (later T 10)\\n|100\\n|1962\\u20131970\\n|Re-designated \\\"T10\\\" in 1965.\\n|-\\n|[[Triumph Tigress|Tigress Scooter]]\\n|175&nbsp;(2-stroke) / 250&nbsp;(4-stroke)\\n|1959\\u20131965\\n|\\n|-\\n|[[Triumph T140W TSS|T140W TSS]]\\n|750\\n|\\n|8-valve head\\n|-\\n|[[Triumph Bonneville T140|T140D Bonneville Special]]\\n|750\\n|\\n|Custom style\\n|-\\n|[[Triumph Bonneville T140|T140E]]\\n|750\\n|\\n|Emissions-controlled\\n|-\\n|[[Triumph T140 TSX]]\\n|\\n|\\n|Custom style\\n|-\\n|[[Triumph T140W TSS|TS8-1]]\\n|\\n|\\n|Show prototype anti-vibration 8 valve\\n|-\\n|[[Triumph Bonneville T140|Bonneville Executive]]\\n|\\n|\\n|faired tourer with luggage\\n|-\\n|[[Triumph TR65 Thunderbird]]\\n|650\\n|\\n|T140 derivative, 76x71.5 giving 649 short stroke engine\\n|-\\n|[[TR7T Tiger Trail]]\\n|750\\n|\\n|On/off-road style\\n|-\\n|[[TR65T Tiger Trail]]\\n|650\\n|\\n|On/off-road style with TR65 engine\\n|-\\n|[[Triumph Bonneville T140|T140LE Royal Wedding Bonneville]]\\n|750\\n|1981\\n|250 of these to commemorate the Prince of Wales' marriage\\n|-\\n|[[Triumph Bonneville T140|T140J Bonneville Silver Jubilee]]\\n|750\\n|1977\\n|2500 of these commemorated [[Elizabeth II of the United Kingdom]]'s Silver Jubilee\\n|-\\n|[[Triumph Bonneville T140|T140AV]], TR7AV, [[Triumph T140W TSS|TSSAV]]\\n|\\n|\\n|Anti-Vibration police models\\n|-\\n|TR7VS Tiger Electro\\n|\\n|\\n|Electric start\\n|-\\n|[[Triumph Bonneville T140|T140ES Bonneville Electro]]\\n|\\n|\\n|Electric start\\n|-\\n|[[Triumph TR65 Thunderbird|TR6 Thunderbird]]\\n|600\\n|\\n|Show prototype custom style\\n|-\\n|[[Triumph Daytona 600|Daytona 600]]\\n|600\\n|\\n|Show prototype\\n|-\\n|[[Triumph T140W TSS|TSX8]]\\n|\\n|\\n|Show prototype 8-valve custom style\\n|-\\n|Tiger 1200\\n|1160\\n|2012\\n|-\\n|Tiger 1200 Rally\\n|1160\\n|2022\\n|On/off-road style\\n|-\\n|Tiger 1200 Rally Pro\\n|1160\\n|2023\\n|On/off-road style. Fuel tank 20 litres\\n|-\\n|Tiger 1200 Rally Explorer\\n|1160\\n|2023\\n|On/off-road style. Fuel tank 30 litres\\n|}\\n\\n===Triples===\\nFor full detail see [[BSA Rocket 3/Triumph Trident]] (for corresponding BSA models see [[List of BSA motorcycles#Triples|BSA Triples]])\\n{| class=\\\"sortable to ccolours\\\" border=\\\"1\\\" cellpadding=\\\"4\\\" style=\\\"border-collapse:collapse\\\"\\n|-style=\\\"background:#dedede;\\\"\\n|'''Model'''\\n|'''First year''' \\n|'''Last year'''\\n|Notes\\n|-\\n|T150\\t\\n|1969\\t\\n|1972\\n|\\n|-\\n|T150V\\t\\n|1971\\t\\n|1974\\n|5-speed gearbox\\n|-\\n|X75 Hurricane\\n|1973\\t\\n|\\n|The first production 'Custom' motorcycle\\u2013styled by Craig Vetter\\n|-\\n|T160\\t\\n|1975\\t\\n|\\n|\\n|}\\n\\n{{see also|Triumph Legend 741cc}}\\n\\n===From 1985 to 1988===\\n*[[Triumph Bonneville]]\\n\\n== Triumph Motorcycles Limited ==\\nKnown as the [[Hinckley]], [[Leicestershire]] era, 1990\\u2013.\\n{| class=\\\"wikitable sortable\\\" border=\\\"1\\\" cellpadding=\\\"4\\\" style=\\\"border-collapse:collapse\\\"\\n|-style=\\\"background:#dedede;\\\"\\n|'''Model'''\\n|'''Engine displacement [cm<sup>3</sup>]'''\\n|'''Years''' \\n|'''Notes'''\\n|-\\n|[[Triumph Daytona (T300)|Daytona 750]]\\n|748\\n|1990\\u20131992\\n|Triple with short-stroke crank fitted (900 has the long-throw crank). Aimed at Super sports market but more of a sports-tourer. Only circa 240 made. These are now very collectable.\\n|-\\n|[[Triumph Daytona (T300)|Daytona 1000]]\\n|998\\n|1990\\u20131992\\n|Sports bike using four-cylinder version of the short-stroke 750 Daytona/Trident engine\\n|-\\n|[[Triumph Trophy (T300)|Trophy 900]]\\n|885\\n|1990\\u20132002\\n|From 1995 it received a completely new (and much larger) fairing, designed by John Mockett,  standard fit panniers and a new exhaust system with low slung silencers to allow the panniers to fit. \\n|-\\n|[[Triumph Trophy (T300)|Trophy 1200]]\\n|1180\\n|1990\\u20132004\\n|Initially 141&nbsp;bhp sports tourer, using 4-cylinder long-stroke version of modular engine. From 1995 it received a completely new (and much larger) fairing, designed by John Mockett,  standard fit panniers and a new exhaust system with low slung silencers to allow the panniers to fit. Engine retuned to 108&nbsp;bhp with improved torque.\\n|-\\n|[[Triumph Trophy|Trophy SE]]<ref>{{cite web |url=http://www.triumphmotorcycles.com/motorcycles/range/touring/trophy |title=TROPHY SE |accessdate=2013-10-30 |url-status=dead |website= Triumph Motorcycles |archiveurl=https://web.archive.org/web/20131101132342/http://www.triumphmotorcycles.com/motorcycles/range/touring/trophy |archivedate=1 November 2013 |df=dmy-all }}</ref>\\n|1215\\n|2013-2017\\n|Full touring motorcycle, sharing its all-new (and shaft-driven) 1215 triple with the (Adventure styled) Tiger Explorer. Initially sold as a \\\"basic\\\" Trophy and an \\\"SE\\\" (the \\\"basic\\\" version was never available in the US), only the SE is currently listed. \\n|-\\n|[[Triumph Trident|Trident 750]]\\n|748\\n|\\n|Naked version of short-stroke triple-engined bike.\\n|-\\n|[[Triumph Trident|Trident 900]]\\n|885\\n|\\n|Naked version of long-stroke triple-engined bike.\\n|-\\n|[[Triumph Sprint 900|Trident Sprint 900]]\\n|885\\n|\\n|Standard Trident, fitted with very effective twin headlamp half fairing.\\n|-\\n|Sprint 900\\n|885\\n|\\n|As above but, as model became well known in its own right, Triumph decided to drop the \\\"Trident\\\" part of the name. Facelifted in 1995 to include new (unique to the Sprint, at the time) side panels and tail light.\\n|-\\n|Sprint 900 Sport\\n|885\\n|\\n|Sprint with improved suspension, higher pegs and exhausts (all taken from the, then current, speed triple) and lower bars (taken from the early Trophy). Probably the best mix of all parts from the initial modular range of Hinckley Triumphs.\\n|-\\n|Sprint 900 Executive\\n|885\\n|\\n|Sprint with panniers, exhausts and footrest hangers taken from the post 1995 Triumph Trophy. \\n|-\\n|[[Triumph Daytona (T300)|Daytona 900]]\\n|885\\n|1992\\u20131997\\n|A combination of the original 750 Daytona with the long stroke 900 engine and a slightly more acceptable riding position. Still too heavy and large to be a true sports bike, but a very charismatic and robust high speed, long distance, tourer.\\n|-\\n|[[Triumph Daytona (T300)|Daytona Super 3]]\\n|885\\n|1994\\u20131996\\n|A standard 900 Daytona with a Cosworth modified engine producing claimed 115&nbsp;bhp, fitted with a few carbon fibre extras. The Daytona on which it was based was never a true sports bike, being too heavy (especially top heavy) and unwieldy to compete with current sports bikes. The Super III was an attempt to shed weight and increase power, but combined with a very high price, only served to underline that this was a step too far for the original modular design. These have become collectible bikes.\\n|-\\n|[[Triumph Daytona (T300)|Daytona 1200]]\\n|1180\\n|1992\\u20131999\\n|147&nbsp;bhp 4 cyl Sports Tourer. Though discontinued in '96, it was relaunched as a \\\"Special Edition\\\" in '98. Only 250 individually numbered machines were produced (the number being shown on a specially engraved plaque on the headstock). It featured with 6 pot brakes (from the Super III), black paint with gold lettering and gold wheels. One of the special plaques was damaged in production and, when another one was ordered, it came as \\\"number 251\\\" in error.\\n|-\\n|[[Triumph Thunderbird 900|Thunderbird 900]]\\n|885\\n|1995\\u20132004\\n|\\nTriumph's first attempt to revive a classic-styled motorcycle based on its heritage, using the original modular platform.  Bike sported 18\\\" front tire and 16\\\" rear, detuned the 885 motor to 70&nbsp;hp with better lower-end torque.5-speed until engine number 71843, then all fitted with 6-speed.\\n|-\\n|[[Triumph Adventurer 900|Adventurer 900]]\\n|885\\n|1996\\u20132000\\n|Thunderbird with wider 19\\\" front tyre, plus bob-tail rear fender similar to cruiser bike.  Triumph's first attempt at a cruiser, using the modular platform. All from engine number 71843 are 6 speed.\\n|-\\n|[[Triumph Thunderbird 900#Triumph Thunderbird Sport|Thunderbird Sport 900]]\\n|885\\n|1997\\u20132000, 2003\\u20132004\\n|Thunderbird with wider 17\\\" tyres, plus \\\"arguably\\\" uprated engine (the only real visual difference is with the exhaust system), however the suspension and brakes are improved with twin disc set up. All 6-speed and 82&nbsp;bhp.\\n|-\\n|Daytona T595\\n|955\\n|1997\\u20131999\\n|The first true sports bike from the new Hinckley Triumph. Using an engine only very loosely based on the long stroke triple motor, it was much lighter, more powerful and used a unique alloy perimeter frame allowing the low centre of gravity and dedicated sports bike handling necessary to compete in this market. It also had an alloy single sided swing arm that was very similar to that offered by Ducati in their then current 916. The first production bikes featured a polished alloy frame, but these examples very quickly picked up a reputation for catastrophic weld failure on the top rail leading to the headstock. The frames were soon modified with a much larger weld on the top tube, though they were never supplied polished again, reverting to a silver/grey paint finish.\\n|-\\n|[[Triumph Daytona 955i|Daytona 955i]]\\n|955\\n|1999\\u20132006\\n|The T595 was renamed 955 as it was too often thought to be a 600&nbsp;cc bike! It gradually evolved with a new bodywork and improved engine mapping. It lost the single sided swinging arm at one point, but then reverted to a single sided arm around a year later. Model eventually discontinued and never replaced as factory felt that the high level of investment necessary to stay competitive in the large sports bike market wasn't justified.\\n\\nAlso \\\"CE\\\" (Centennial Edition) version 2002\\n|-\\n|[[Triumph Daytona 600|Daytona 600]]\\n|599\\n|2002\\u20132004\\n|\\n|-\\n|[[Triumph Daytona 650|Daytona 650]]\\n|646\\n|2005\\u20132006\\n|Longer stroke version of Daytona 600\\n|-\\n|[[Triumph Daytona 675|Daytona 675]]\\n|675\\n|2006-2016\\n|All new bike with all new three cylinder engine\\n|-\\n|Daytona 765\\n|765\\n|2020\\n|Limited production (1530 total), based on the Street Triple 765, plus tweaks from Triumph's Moto2 learnings.\\n|-\\n|[[Triumph TT600|TT 600]]\\n|599\\n|2000\\u20132002\\n|\\n|-\\n|[[Triumph Bonneville Scrambler|Scrambler 900]]\\n|865\\n|2006\\u2013\\n|Street\\u2013scrambler styled trail bike, based on the 865&nbsp;cc Bonneville, 270\\u00b0 crank, high level exhaust system. Electronic Fuel Injection from 2008MY(UK) 2009MY(ROW)\\n|-\\n|[[Triumph Thruxton 900|Thruxton 900]]\\n|865\\n|2004\\u2013\\n|Bonneville based cafe racer \\n|-\\n|Sprint RS\\n|955\\n|1999\\u20132004\\n|\\n|-\\n|[[Triumph Sprint ST|Sprint ST]]\\n|955/1050\\n|1999 on\\n|1999\\u20132005 955&nbsp;cc, 2005 on 1050&nbsp;cc\\n|-\\n|Sprint GT\\n|1050\\n|2010 on\\n|Liquid-cooled, 12 valve, DOHC, in-line 3-cylinder producing 128&nbsp;bhp/96&nbsp;kW @ 9200rpm and torque 108Nm/80&nbsp;ft.lbs @ 6300rpm.  ABS Standard. Available in Pacific Blue, Aluminium Silver and Phantom Black.\\n|-\\n|[[Triumph Legend TT|Legend TT]]\\n|885\\n|1998\\u20132000\\n|\\n|-\\n|[[Triumph Speedmaster|Speedmaster]]\\n|790\\n|2003\\u20132004\\n|Cruiser based on the Bonneville, the engine being at 270\\u00b0 instead of 360\\u00b0\\n|-\\n|[[Triumph Speedmaster|Speedmaster 900]]\\n|865\\n|2005-\\n|Cruiser based on the Bonneville T100, the engine being at 270\\u00b0 instead of 360\\u00b0\\n|-\\n|[[Triumph Adventurer 900|Adventurer]]\\n|885\\n|1996\\u20132001\\n|Restyled Thunderbird 900\\n|-\\n|[[Triumph Bonneville America]]\\n|790/865\\n|2002 on\\n|2002\\u20132006 790&nbsp;cc, 2007 on 865&nbsp;cc. 2008 on fuel injected\\n|-\\n|[[Triumph Rocket III|Rocket III]]\\n|2294\\n|2004-2009\\n|Long-distance touring Cruiser \\n|-\\n|[[Triumph Rocket III#Rocket III Classic|Rocket III Classic]]\\n|2294\\n|2006-2007\\n|Rider floorboards, different mufflers, 'pullback' handlebars, more comfortable passenger seat\\n|-\\n|[[Triumph Rocket III#Rocket III Tourer|Rocket III Tourer]]\\n|2294\\n|2007-2007\\n|Classic Model with windscreen, soft saddlebags, backrest, luggage rack and a choice of two-tone paint schemes\\n|-\\n|[[Triumph Rocket III#Rocket III Touring|Rocket III Touring]]\\n|2294\\n|2008-2017\\n|Hard luggage and large windscreen standard equipment, less bhp, more torque than standard model\\n|-\\n|[[Triumph Rocket III#Rocket III|Rocket III Roadster]]\\n|2294\\n|2010-2018\\n|more HP & torque than standard model, mechanical improvements, modified rider positioning\\n|-\\n|[[Triumph Rocket 3 TFC#Rocket 3 Triumph Factory Custom|Rocket 3 Triumph Factory Custom]]\\n|2458\\n|2019-2019\\n|Redesign - more HP & torque than previous 2300cc model, limited to 750 units\\n|-\\n|[[Triumph Rocket 3#Rocket 3|Rocket 3]]\\n|2458\\n|2020\\n|Redesign - more HP & torque than previous 2300cc model, R & GT variants\\n|-\\n|[[Triumph Bonneville 790|Bonneville 790]]\\n|790/865\\n|2001-2007 790&nbsp;cc, 2007 on 865&nbsp;cc\\n|After 10 years of producing bikes around a modern engine, Triumph eventually succumbed to the need to build a true modern version of the classic Bonneville. Using a counterbalanced air and oil cooled parallel twin motor, it looked as close to the original '60's version of the unit construction Bonneville as it was possible to within current noise and emission regulations. In 2002 Triumph released a limited edition model to commemorate the 50th Anniversary of Queen Elizabeth's coronation. These collectable bikes were dubbed the \\\"Golden Jubilee\\\" and featured an exclusive paint scheme and badging.\\n|-\\n|[[Triumph Bonneville Bobber|Bonneville Bobber]]\\n|1200\\n|2017-\\n| The Bonneville Bobber is a new Bonneville model introduced for the 2017 model year. It is a slightly modified version of the same 1200 cc engine introduced in the Bonneville T120 in 2016 which gives it a little less power but more torque.\\n|-\\n|[[Triumph Bonneville T100|Bonneville T100]]\\n|790/865/900\\n|2002 on\\n|2002-2005 790&nbsp;cc, 2006 on 865&nbsp;cc, 2008 fuel injection replaced carbs, 2017 900&nbsp;cc Liquid cooled, 8 valve, SOHC, 270\\u00b0 parallel twin\\n|-\\n|[[Triumph Bonneville T120|Bonneville T120]]\\n|1200\\n|2016-\\n| Brought back for 2016 an all new 1200&nbsp;cc Liquid cooled, 8 valve, SOHC, 270\\u00b0 parallel twin\\n|-\\n|[[Triumph Speed Twin 1200]]\\n|1200\\n|2019-\\n|The '''Triumph Speed Twin 1200''' is a [[standard motorcycle]] made by [[Triumph Motorcycles Ltd]] that is a modern successor of the original [[Triumph Speed Twin]] from 1938\\n|-\\n|Speed Triple 750\\n|748\\n|\\n|Budget Speed Triple using 750 Trident engine, only in production for a very short time. Using identical components to the 900 version, the only way to tell this model apart is the larger (18\\\") diameter rear wheel, with 6 spokes rather than 3. \\n|-\\n|Speed Triple 900\\n|885\\n|1994\\u20131997\\n|\\nTriumph's very successful attempt at a streetfighter motorcycle, similar to how owners were \\\"stripping down\\\" modern sport bikes. Essentially a Daytona 900 without a fairing and fitted with a single round headlamp and conventional paired instrument pod. Originally (and pointlessly) sold with just a 5 speed gearbox, but later versions had the same 6 ratios as the 900 Daytona. Wildly successful and included its own racing series. Still top heavy and not a true sports bike, but one of the most charismatic bikes of the decade. Nearly always sold in all black, with orange being rare and yellow extremely rare.\\n|-\\n|Speed Triple T509\\n|885\\n|1997\\u20131999\\n|\\nReplacing the original 900 Speed Triple using, logically, the frame, motor (though originally in 885&nbsp;cc, rather than 955&nbsp;cc, guise) and much of the running gear from the new T595 sports bike. Again, there was no fairing, although this time it had twin headlamps in chrome pods to follow the \\\"Street fighter\\\" line, rather than the earlier \\\"cafe racer\\\" appearance. Much lighter and easier to handle than the earlier 900 Speed Triple it was equally successful, though the appearance of the new engine was probably better suited to being hidden behind a fairing.\\n|-\\n|Speed Triple 955i\\n|955\\n|1999\\u20132005\\n|\\n|-\\n|Speed Triple 1050\\n|1050\\n|2005-2020\\n|\\n|-\\n|Speed Triple 1200\\n|1160\\n|2021 on\\n|All-new design inspired by Moto2 and Street Triple 765\\n|-\\n|[[Triumph Street Triple|Street Triple 675]]\\n|675\\n|2008-2016 \\n|Scaled down Speed Triple, based on Daytona 675 Chassis\\n|-\\n|Street Triple 765\\n|765\\n|2017 on\\n|\\n|-\\n|[[Triumph Speed Four|Speed Four]]\\n|599\\n|2002-2005\\n|Stripped down TT600 with reworked engine\\n|-\\n|[[Triumph Tiger 900 (T400)|Tiger 900]]\\n|885\\n|1993\\u20131998\\n|Dual sport with desert racer styling\\n|-\\n|Tiger 900i\\n|885\\n|1999\\u20132001\\n|Revamped model with fuel-injected motor based on T509 Speed Triple\\n|-\\n|[[Triumph Tiger 955i|Tiger 955i]]\\n|955\\n|2001\\u20132006\\n|Increased displacement to 955cc, gradual changes made until end of production in 2006\\n|-\\n|[[Triumph Tiger 1050|Tiger 1050]]\\n|1050\\n|2007 on\\n|\\n|-\\n|[[Triumph Tiger 800|Tiger 800]]\\n|800\\n|2011 on\\n|All-new smaller Tiger with an engine based in part on the existing 675cc motor used in the Daytona 675 and Street Triple; was available in several road- and off-road-orientated versions\\n|-\\n|[[Triumph Tiger 900 (2020)|Tiger 900]]\\n|888\\n|2020 on\\n|Successor of the Tiger 800 \\n|-\\n|[[Triumph Thunderbird (2009)|Triumph Thunderbird]]\\n|1,600 and 1,700\\n|2009\\n|85 bhp(1600) 97 bhp (1700) bhp Parallel Twin, belt-drive cruiser \\n|-\\n|[[Triumph Trident 660]]\\n|660\\n|2020 on\\n|660cc 80 bhp tricylinder evolved from Street Triple 660. Adapted to [[Euro5]]\\n|-\\n|[[Triumph Tiger Sport 660]]\\n|660\\n|2022 on\\n|660cc 80 bhp tricylinder evolved from Tiger 1200 . Adapted to [[Euro5]]\\n|}\\n{{Commons category|Triumph motorcycles}}\\n<!--======================== {{No more links}} ============================\\n    | PLEASE BE CAUTIOUS IN ADDING MORE LINKS TO THIS ARTICLE. Wikipedia  |\\n    | is not a collection of links nor should it be used for advertising. |\\n    |                                                                     |\\n    |           Excessive or inappropriate links WILL BE DELETED.         |\\n    | See [[Wikipedia:External links]] & [[Wikipedia:Spam]] for details.  |\\n    |                                                                     |\\n    | If there are already plentiful links, please propose additions or   |\\n    | replacements on this article's discussion page, or submit your link |\\n    | to the relevant category at the Open Directory Project (dmoz.org)   |\\n    | and link back to that category using the {{dmoz}} template.         |\\n    ======================= {{No more links}} =============================-->\\n\\n==References==\\n{{Reflist}}\\n\\n{{Triumph motorcycles Meriden}}\\n{{Triumph motorcycles Hinckley}}\\n\\n[[Category:Triumph Motorcycles Ltd motorcycles| ]]\\n[[Category:Triumph Engineering motorcycles|*]]\\n[[Category:Lists of motorcycles by brand|Triumph]]\\n[[Category:Lists of motorcycles of the United Kingdom|Triumph]]\\n\\n[[fr:Triumph (moto)]]\\n[[it:Triumph]]\\n[[nl:Triumph (motorfiets)]]\\n[[ja:\\u30c8\\u30e9\\u30a4\\u30a2\\u30f3\\u30d5 (\\u4e8c\\u8f2a\\u8eca)]]\\n[[sv:Triumph (mc)]]\"}}}]}}}}\n"
     ]
    }
   ],
   "source": [
    "response1 = requests.get(url_wiki, params=params, headers=headers)\n",
    "response1.status_code\n",
    "print(response1.text)"
   ]
  },
  {
   "cell_type": "code",
   "execution_count": 26,
   "id": "d175f6d8-9637-48f8-8411-223f420f340b",
   "metadata": {},
   "outputs": [],
   "source": [
    "language_code = 'en'\n",
    "search_query = 'solar system'\n",
    "number_of_results = 1\n",
    "headers = {\n",
    "  # 'Authorization': 'Bearer YOUR_ACCESS_TOKEN',\n",
    "  'User-Agent': 'YOUR_APP_NAME (YOUR_EMAIL_OR_CONTACT_PAGE)'\n",
    "}\n",
    "\n",
    "base_url = 'https://api.wikimedia.org/core/v1/wikipedia/'\n",
    "endpoint = '/search/page'\n",
    "url = base_url + language_code + endpoint\n",
    "parameters = {'q': search_query, 'limit': number_of_results}\n",
    "response = requests.get(url, headers=headers, params=parameters)\n"
   ]
  },
  {
   "cell_type": "code",
   "execution_count": 24,
   "id": "73c02920-b1bf-4441-b78b-102ad1e11825",
   "metadata": {},
   "outputs": [
    {
     "data": {
      "text/html": [
       "<div>\n",
       "<style scoped>\n",
       "    .dataframe tbody tr th:only-of-type {\n",
       "        vertical-align: middle;\n",
       "    }\n",
       "\n",
       "    .dataframe tbody tr th {\n",
       "        vertical-align: top;\n",
       "    }\n",
       "\n",
       "    .dataframe thead th {\n",
       "        text-align: right;\n",
       "    }\n",
       "</style>\n",
       "<table border=\"1\" class=\"dataframe\">\n",
       "  <thead>\n",
       "    <tr style=\"text-align: right;\">\n",
       "      <th></th>\n",
       "      <th>pageid</th>\n",
       "      <th>title</th>\n",
       "    </tr>\n",
       "  </thead>\n",
       "  <tbody>\n",
       "    <tr>\n",
       "      <th>0</th>\n",
       "      <td>5853001</td>\n",
       "      <td>List of Triumph motorcycles</td>\n",
       "    </tr>\n",
       "  </tbody>\n",
       "</table>\n",
       "</div>"
      ],
      "text/plain": [
       "    pageid                        title\n",
       "0  5853001  List of Triumph motorcycles"
      ]
     },
     "execution_count": 24,
     "metadata": {},
     "output_type": "execute_result"
    }
   ],
   "source": [
    "# 1) Get the dictionary of pages (keys are dynamic IDs like \"5853001\")\n",
    "pages_dict = data[\"query\"][\"pages\"]\n",
    "\n",
    "# 2) Turn the page objects into a list of rows\n",
    "rows = list(pages_dict.values())\n",
    "\n",
    "# 3) Make a DataFrame (and keep just the columns you want)\n",
    "df = pd.DataFrame(rows)[[\"pageid\", \"title\"]]\n",
    "\n",
    "# 4) In Jupyter, just write `df` to show it as a table\n",
    "df"
   ]
  },
  {
   "cell_type": "code",
   "execution_count": null,
   "id": "5680a5db-b9b3-4b95-936b-e7416a39c786",
   "metadata": {},
   "outputs": [],
   "source": []
  },
  {
   "cell_type": "code",
   "execution_count": null,
   "id": "cce88bd1-fdba-442b-8a81-5f7e031ce253",
   "metadata": {},
   "outputs": [],
   "source": [
    "wiki_list = pd.read_html(StringIO(response1.text))\n",
    "type(wiki_list)"
   ]
  },
  {
   "cell_type": "code",
   "execution_count": 6,
   "id": "1981a4e5-6e15-4e02-9b08-6ad0c897c21c",
   "metadata": {},
   "outputs": [
    {
     "ename": "NameError",
     "evalue": "name 'wiki_list' is not defined",
     "output_type": "error",
     "traceback": [
      "\u001b[31m---------------------------------------------------------------------------\u001b[39m",
      "\u001b[31mNameError\u001b[39m                                 Traceback (most recent call last)",
      "\u001b[36mCell\u001b[39m\u001b[36m \u001b[39m\u001b[32mIn[6]\u001b[39m\u001b[32m, line 1\u001b[39m\n\u001b[32m----> \u001b[39m\u001b[32m1\u001b[39m wiki_list[\u001b[32m3\u001b[39m]\n",
      "\u001b[31mNameError\u001b[39m: name 'wiki_list' is not defined"
     ]
    }
   ],
   "source": [
    "wiki_list[3]"
   ]
  },
  {
   "cell_type": "code",
   "execution_count": 19,
   "id": "eb62085e-f852-448c-b923-b84bb2e47baf",
   "metadata": {},
   "outputs": [],
   "source": [
    "# pd.read_csv(r\"C:\\Users\\dsilva2\\Dropbox\\Kent\\EMAT-32210_Data-in-EMAT\\FA24\\AIPKey-AirQuality.txt\")"
   ]
  },
  {
   "cell_type": "code",
   "execution_count": 16,
   "id": "535c9e71-7b0a-49b4-bf6b-2686367502f8",
   "metadata": {},
   "outputs": [],
   "source": [
    "airiq_endpoint = 'http://api.airvisual.com/v2/states'\n",
    "iqair_file = pd.read_csv(r\"C:\\Users\\dsilva2\\Dropbox\\Kent\\EMAT-32210_Data-in-EMAT\\FA24\\AIPKey-AirQuality.txt\")\n",
    "iqair_key = iqair_file['AirQualityAPI-Key'].iloc[0]"
   ]
  },
  {
   "cell_type": "code",
   "execution_count": 18,
   "id": "bd5ef8ae-58e9-4aa1-b312-f06521597bac",
   "metadata": {},
   "outputs": [],
   "source": [
    "# iqair_file['AirQualityAPI-Key'].iloc[0]"
   ]
  },
  {
   "cell_type": "code",
   "execution_count": 26,
   "id": "1afe1b28-9b9c-4c9f-8f1d-84f039ea9672",
   "metadata": {},
   "outputs": [
    {
     "data": {
      "text/plain": [
       "200"
      ]
     },
     "execution_count": 26,
     "metadata": {},
     "output_type": "execute_result"
    }
   ],
   "source": [
    "response2 = requests.get(airiq_endpoint+'?country={}&key={}'.format('Guatemala', iqair_key))\n",
    "response2.status_code"
   ]
  },
  {
   "cell_type": "code",
   "execution_count": 27,
   "id": "e27a0797-3902-4823-940a-eb02aea74b34",
   "metadata": {},
   "outputs": [
    {
     "data": {
      "text/plain": [
       "'{\"status\":\"success\",\"data\":[{\"state\":\"Baja Verapaz\"},{\"state\":\"Guatemala\"},{\"state\":\"Jalapa\"},{\"state\":\"Peten\"},{\"state\":\"Quetzaltenango\"},{\"state\":\"Sacatepequez\"}]}'"
      ]
     },
     "execution_count": 27,
     "metadata": {},
     "output_type": "execute_result"
    }
   ],
   "source": [
    "response2.text"
   ]
  },
  {
   "cell_type": "code",
   "execution_count": 11,
   "id": "8d3b66c6-80bd-4bd6-b837-297f2bde202e",
   "metadata": {},
   "outputs": [
    {
     "data": {
      "text/plain": [
       "'Hello Dr. Silva'"
      ]
     },
     "execution_count": 11,
     "metadata": {},
     "output_type": "execute_result"
    }
   ],
   "source": [
    "'Hello Dr. {}'.format('Silva')"
   ]
  },
  {
   "cell_type": "code",
   "execution_count": null,
   "id": "6a01e5d4-9ac9-47a5-8e6f-d10e68bdc656",
   "metadata": {},
   "outputs": [],
   "source": [
    "header = {'Authorization': 'My_Key'}"
   ]
  },
  {
   "cell_type": "code",
   "execution_count": null,
   "id": "3401c583-f552-4194-859e-9d58078afd59",
   "metadata": {},
   "outputs": [],
   "source": [
    "response3 = requests.get('', headers = header)"
   ]
  }
 ],
 "metadata": {
  "kernelspec": {
   "display_name": "Python 3 (ipykernel)",
   "language": "python",
   "name": "python3"
  },
  "language_info": {
   "codemirror_mode": {
    "name": "ipython",
    "version": 3
   },
   "file_extension": ".py",
   "mimetype": "text/x-python",
   "name": "python",
   "nbconvert_exporter": "python",
   "pygments_lexer": "ipython3",
   "version": "3.12.11"
  }
 },
 "nbformat": 4,
 "nbformat_minor": 5
}
