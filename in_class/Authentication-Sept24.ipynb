{
 "cells": [
  {
   "cell_type": "markdown",
   "id": "7b8c5f73-46f9-49c8-a718-30531706aef6",
   "metadata": {},
   "source": [
    "# APIs & Authentication"
   ]
  },
  {
   "cell_type": "code",
   "execution_count": 2,
   "id": "7776eaab-47b4-4c5e-9dc9-a4e9f9276457",
   "metadata": {},
   "outputs": [],
   "source": [
    "import requests\n",
    "import pandas as pd\n",
    "import json as js"
   ]
  },
  {
   "cell_type": "markdown",
   "id": "f34f3e53-0b80-4f86-98a7-02a6f5749f6c",
   "metadata": {},
   "source": [
    "## API Key\n",
    "**OpenWeatherMap → API Key** (simple key in query string) <br>\n",
    "Get keys from https://home.openweathermap.org/api_keys"
   ]
  },
  {
   "cell_type": "code",
   "execution_count": null,
   "id": "c8461169-1f37-4829-9090-6d8fe56d7adf",
   "metadata": {},
   "outputs": [
    {
     "name": "stdout",
     "output_type": "stream",
     "text": [
      "City: Kent\n",
      "Weather: overcast clouds\n",
      "Temperature (C): 18.39\n"
     ]
    }
   ],
   "source": [
    "## New API keys can take up to 1–2 hours to become active.\n",
    "API_KEY = \"\"  # put your real key here\n",
    "city = \"Kent\"\n",
    "# f\"\" → lets you insert variables/expressions inside a string.\n",
    "url = f\"http://api.openweathermap.org/data/2.5/weather?q={city}&appid={API_KEY}&units=metric\"\n",
    "\n",
    "response = requests.get(url)\n",
    "\n",
    "# Check if the request worked\n",
    "if response.status_code == 200:\n",
    "    data = response.json()\n",
    "    print(\"City:\", data[\"name\"])\n",
    "    print(\"Weather:\", data[\"weather\"][0][\"description\"])\n",
    "    print(\"Temperature (C):\", data[\"main\"][\"temp\"])\n",
    "else:\n",
    "    print(\"Error:\", response.status_code, response.text)"
   ]
  },
  {
   "cell_type": "markdown",
   "id": "657e0eda-7b2a-4cf2-98ac-da33f46f42db",
   "metadata": {},
   "source": [
    "## Create a function \n",
    "Create a function so we can re-use the code and tidy up our code"
   ]
  },
  {
   "cell_type": "code",
   "execution_count": 12,
   "id": "cdd6f81a-8cfb-4d98-9e35-24bd5463cb8e",
   "metadata": {},
   "outputs": [],
   "source": [
    "def displayResponse(response):\n",
    "    if response.status_code == 200:\n",
    "        data = response.json()\n",
    "        print(js.dumps(data, indent=2))\n",
    "    else:\n",
    "        print(\"Error:\", response.status_code, response.text)"
   ]
  },
  {
   "cell_type": "markdown",
   "id": "a0511c88-6b8e-4d47-bfa6-569f9cc567d4",
   "metadata": {},
   "source": [
    "### Use this function"
   ]
  },
  {
   "cell_type": "code",
   "execution_count": 13,
   "id": "a59cfaa3-8573-4440-be29-a349bd204e55",
   "metadata": {},
   "outputs": [
    {
     "name": "stdout",
     "output_type": "stream",
     "text": [
      "{\n",
      "  \"coord\": {\n",
      "    \"lon\": 0.6667,\n",
      "    \"lat\": 51.1667\n",
      "  },\n",
      "  \"weather\": [\n",
      "    {\n",
      "      \"id\": 804,\n",
      "      \"main\": \"Clouds\",\n",
      "      \"description\": \"overcast clouds\",\n",
      "      \"icon\": \"04d\"\n",
      "    }\n",
      "  ],\n",
      "  \"base\": \"stations\",\n",
      "  \"main\": {\n",
      "    \"temp\": 18.39,\n",
      "    \"feels_like\": 18.82,\n",
      "    \"temp_min\": 18.26,\n",
      "    \"temp_max\": 19.54,\n",
      "    \"pressure\": 1010,\n",
      "    \"humidity\": 97,\n",
      "    \"sea_level\": 1010,\n",
      "    \"grnd_level\": 1003\n",
      "  },\n",
      "  \"visibility\": 10000,\n",
      "  \"wind\": {\n",
      "    \"speed\": 1.34,\n",
      "    \"deg\": 196,\n",
      "    \"gust\": 4.47\n",
      "  },\n",
      "  \"clouds\": {\n",
      "    \"all\": 100\n",
      "  },\n",
      "  \"dt\": 1758366672,\n",
      "  \"sys\": {\n",
      "    \"type\": 2,\n",
      "    \"id\": 19047,\n",
      "    \"country\": \"GB\",\n",
      "    \"sunrise\": 1758346824,\n",
      "    \"sunset\": 1758391273\n",
      "  },\n",
      "  \"timezone\": 3600,\n",
      "  \"id\": 3333158,\n",
      "  \"name\": \"Kent\",\n",
      "  \"cod\": 200\n",
      "}\n"
     ]
    }
   ],
   "source": [
    "displayResponse(response)"
   ]
  },
  {
   "cell_type": "markdown",
   "id": "9f724961-d025-4b2e-b41b-36821717b656",
   "metadata": {},
   "source": [
    "## Personal Access Token\n",
    "Now, we will look at github's personal access token (PAT)\n",
    "- Create a **Personal Access Token (fine-grained or classic)** from your GitHub settings -> Developer Settings -> Fine-grained tokens."
   ]
  },
  {
   "cell_type": "code",
   "execution_count": null,
   "id": "a3ae630c-5511-4dd2-bc5a-22d59387b31e",
   "metadata": {},
   "outputs": [
    {
     "name": "stdout",
     "output_type": "stream",
     "text": [
      "{\n",
      "  \"login\": \"moresandeep\",\n",
      "  \"id\": 380997,\n",
      "  \"node_id\": \"MDQ6VXNlcjM4MDk5Nw==\",\n",
      "  \"avatar_url\": \"https://avatars.githubusercontent.com/u/380997?v=4\",\n",
      "  \"gravatar_id\": \"\",\n",
      "  \"url\": \"https://api.github.com/users/moresandeep\",\n",
      "  \"html_url\": \"https://github.com/moresandeep\",\n",
      "  \"followers_url\": \"https://api.github.com/users/moresandeep/followers\",\n",
      "  \"following_url\": \"https://api.github.com/users/moresandeep/following{/other_user}\",\n",
      "  \"gists_url\": \"https://api.github.com/users/moresandeep/gists{/gist_id}\",\n",
      "  \"starred_url\": \"https://api.github.com/users/moresandeep/starred{/owner}{/repo}\",\n",
      "  \"subscriptions_url\": \"https://api.github.com/users/moresandeep/subscriptions\",\n",
      "  \"organizations_url\": \"https://api.github.com/users/moresandeep/orgs\",\n",
      "  \"repos_url\": \"https://api.github.com/users/moresandeep/repos\",\n",
      "  \"events_url\": \"https://api.github.com/users/moresandeep/events{/privacy}\",\n",
      "  \"received_events_url\": \"https://api.github.com/users/moresandeep/received_events\",\n",
      "  \"type\": \"User\",\n",
      "  \"user_view_type\": \"public\",\n",
      "  \"site_admin\": false,\n",
      "  \"name\": \"Sandeep Mor\\u00e9\",\n",
      "  \"company\": null,\n",
      "  \"blog\": \"srmore.io\",\n",
      "  \"location\": \"Columbia Missouri\",\n",
      "  \"email\": \"hello@srmore.io\",\n",
      "  \"hireable\": null,\n",
      "  \"bio\": null,\n",
      "  \"twitter_username\": null,\n",
      "  \"notification_email\": \"hello@srmore.io\",\n",
      "  \"public_repos\": 74,\n",
      "  \"public_gists\": 8,\n",
      "  \"followers\": 9,\n",
      "  \"following\": 4,\n",
      "  \"created_at\": \"2010-08-30T17:38:08Z\",\n",
      "  \"updated_at\": \"2025-09-02T11:27:52Z\"\n",
      "}\n"
     ]
    }
   ],
   "source": [
    "GITHUB_TOKEN = \"\"\n",
    "\n",
    "gh_headers = {\n",
    "    \"Authorization\": f\"Bearer {GITHUB_TOKEN}\",\n",
    "    \"Accept\": \"application/vnd.github+json\",\n",
    "    # (optional but recommended)\n",
    "    \"X-GitHub-Api-Version\": \"2022-11-28\",\n",
    "    \"User-Agent\": \"api-auth-demo\"\n",
    "}\n",
    "\n",
    "user = requests.get(\"https://api.github.com/user\", headers=gh_headers, timeout=30)\n",
    "displayResponse(user)"
   ]
  },
  {
   "cell_type": "markdown",
   "id": "4a32185c-d4b5-4556-9ba8-78097a67cf5a",
   "metadata": {},
   "source": [
    "### List my public repos (first 10)"
   ]
  },
  {
   "cell_type": "code",
   "execution_count": 16,
   "id": "198a81c9-d2e5-4564-8567-5e5d9066de5c",
   "metadata": {},
   "outputs": [
    {
     "data": {
      "text/html": [
       "<div>\n",
       "<style scoped>\n",
       "    .dataframe tbody tr th:only-of-type {\n",
       "        vertical-align: middle;\n",
       "    }\n",
       "\n",
       "    .dataframe tbody tr th {\n",
       "        vertical-align: top;\n",
       "    }\n",
       "\n",
       "    .dataframe thead th {\n",
       "        text-align: right;\n",
       "    }\n",
       "</style>\n",
       "<table border=\"1\" class=\"dataframe\">\n",
       "  <thead>\n",
       "    <tr style=\"text-align: right;\">\n",
       "      <th></th>\n",
       "      <th>Name</th>\n",
       "      <th>Private</th>\n",
       "      <th>Language</th>\n",
       "      <th>Stars</th>\n",
       "      <th>URL</th>\n",
       "    </tr>\n",
       "  </thead>\n",
       "  <tbody>\n",
       "    <tr>\n",
       "      <th>0</th>\n",
       "      <td>apache-boxer-test</td>\n",
       "      <td>False</td>\n",
       "      <td>None</td>\n",
       "      <td>0</td>\n",
       "      <td>https://github.com/apache/apache-boxer-test</td>\n",
       "    </tr>\n",
       "    <tr>\n",
       "      <th>1</th>\n",
       "      <td>apache-website-template</td>\n",
       "      <td>False</td>\n",
       "      <td>None</td>\n",
       "      <td>36</td>\n",
       "      <td>https://github.com/apache/apache-website-template</td>\n",
       "    </tr>\n",
       "    <tr>\n",
       "      <th>2</th>\n",
       "      <td>knox</td>\n",
       "      <td>False</td>\n",
       "      <td>Java</td>\n",
       "      <td>205</td>\n",
       "      <td>https://github.com/apache/knox</td>\n",
       "    </tr>\n",
       "    <tr>\n",
       "      <th>3</th>\n",
       "      <td>orc</td>\n",
       "      <td>False</td>\n",
       "      <td>Java</td>\n",
       "      <td>743</td>\n",
       "      <td>https://github.com/apache/orc</td>\n",
       "    </tr>\n",
       "    <tr>\n",
       "      <th>4</th>\n",
       "      <td>orc-format</td>\n",
       "      <td>False</td>\n",
       "      <td>None</td>\n",
       "      <td>13</td>\n",
       "      <td>https://github.com/apache/orc-format</td>\n",
       "    </tr>\n",
       "    <tr>\n",
       "      <th>5</th>\n",
       "      <td>experience-primer-copilot-moresandeep</td>\n",
       "      <td>False</td>\n",
       "      <td>None</td>\n",
       "      <td>0</td>\n",
       "      <td>https://github.com/Exp-Primer-Copilot-Cohort-1...</td>\n",
       "    </tr>\n",
       "    <tr>\n",
       "      <th>6</th>\n",
       "      <td>ansible-hortonworks</td>\n",
       "      <td>False</td>\n",
       "      <td>Python</td>\n",
       "      <td>248</td>\n",
       "      <td>https://github.com/hortonworks/ansible-hortonw...</td>\n",
       "    </tr>\n",
       "    <tr>\n",
       "      <th>7</th>\n",
       "      <td>bigdata-interop-fork</td>\n",
       "      <td>False</td>\n",
       "      <td>Java</td>\n",
       "      <td>0</td>\n",
       "      <td>https://github.com/hortonworks/bigdata-interop...</td>\n",
       "    </tr>\n",
       "    <tr>\n",
       "      <th>8</th>\n",
       "      <td>bman</td>\n",
       "      <td>False</td>\n",
       "      <td>Python</td>\n",
       "      <td>3</td>\n",
       "      <td>https://github.com/hortonworks/bman</td>\n",
       "    </tr>\n",
       "    <tr>\n",
       "      <th>9</th>\n",
       "      <td>cb-cli</td>\n",
       "      <td>False</td>\n",
       "      <td>Go</td>\n",
       "      <td>12</td>\n",
       "      <td>https://github.com/hortonworks/cb-cli</td>\n",
       "    </tr>\n",
       "  </tbody>\n",
       "</table>\n",
       "</div>"
      ],
      "text/plain": [
       "                                    Name  Private Language  Stars  \\\n",
       "0                      apache-boxer-test    False     None      0   \n",
       "1                apache-website-template    False     None     36   \n",
       "2                                   knox    False     Java    205   \n",
       "3                                    orc    False     Java    743   \n",
       "4                             orc-format    False     None     13   \n",
       "5  experience-primer-copilot-moresandeep    False     None      0   \n",
       "6                    ansible-hortonworks    False   Python    248   \n",
       "7                   bigdata-interop-fork    False     Java      0   \n",
       "8                                   bman    False   Python      3   \n",
       "9                                 cb-cli    False       Go     12   \n",
       "\n",
       "                                                 URL  \n",
       "0        https://github.com/apache/apache-boxer-test  \n",
       "1  https://github.com/apache/apache-website-template  \n",
       "2                     https://github.com/apache/knox  \n",
       "3                      https://github.com/apache/orc  \n",
       "4               https://github.com/apache/orc-format  \n",
       "5  https://github.com/Exp-Primer-Copilot-Cohort-1...  \n",
       "6  https://github.com/hortonworks/ansible-hortonw...  \n",
       "7  https://github.com/hortonworks/bigdata-interop...  \n",
       "8                https://github.com/hortonworks/bman  \n",
       "9              https://github.com/hortonworks/cb-cli  "
      ]
     },
     "execution_count": 16,
     "metadata": {},
     "output_type": "execute_result"
    }
   ],
   "source": [
    "repos = requests.get(\"https://api.github.com/user/repos\", headers=gh_headers, params={\"per_page\": 10}, timeout=30)\n",
    "reposJson = repos.json()\n",
    "rows = [{\n",
    "    \"Name\": r.get(\"name\"),\n",
    "    \"Private\": r.get(\"private\"),\n",
    "    \"Language\": r.get(\"language\"),\n",
    "    \"Stars\": r.get(\"stargazers_count\"),\n",
    "    \"URL\": r.get(\"html_url\")\n",
    "} for r in reposJson]\n",
    "\n",
    "pd.DataFrame(rows)"
   ]
  },
  {
   "cell_type": "markdown",
   "id": "7ee1662c-e468-438d-acd3-4ae707206cb7",
   "metadata": {},
   "source": [
    "## App Password\n",
    "Bluesky — App Passwords (Safer than your main password)\n",
    "- In the Bluesky app: **Settings → Privacy and Security → App passwords**. Create one.\n",
    "- **Do NOT** use your main password here.\n",
    "- Flow:\n",
    "  1) `POST https://bsky.social/xrpc/com.atproto.server.createSession` with `identifier` (your handle) + `password` (app password)\n",
    "  2) Receive `accessJwt` (short-lived)\n",
    "  3) Call an endpoint like `GET /xrpc/app.bsky.feed.getTimeline` with `Authorization: Bearer <accessJwt>`"
   ]
  },
  {
   "cell_type": "code",
   "execution_count": null,
   "id": "79cd06e0-d10b-4332-996d-0937f844ba24",
   "metadata": {},
   "outputs": [
    {
     "name": "stdout",
     "output_type": "stream",
     "text": [
      "Error: 404 <!DOCTYPE html>\n",
      "<html lang=\"en\">\n",
      "<head>\n",
      "<meta charset=\"utf-8\">\n",
      "<title>Error</title>\n",
      "</head>\n",
      "<body>\n",
      "<pre>Cannot POST /xrpc/com.atproto.server.createSession</pre>\n",
      "</body>\n",
      "</html>\n",
      "\n"
     ]
    }
   ],
   "source": [
    "# Variables\n",
    "APP_PASSWORD = \"\"\n",
    "BASE_URL = \"https://api.bsky.app/xrpc\"\n",
    "HANDLE = \"moresandeep\"\n",
    "APPVIEW_BASE = \"https://public.api.bsky.app\"\n",
    "\n",
    "# Request\n",
    "login_url = f\"{BASE_URL}/com.atproto.server.createSession\"\n",
    "payload = {\"identifier\": HANDLE, \"password\": APP_PASSWORD}\n",
    "r = requests.post(login_url, json=payload, timeout=30)\n",
    "displayResponse(r)"
   ]
  },
  {
   "cell_type": "code",
   "execution_count": null,
   "id": "9bf251e3-6996-4814-88c1-6751b883ae9b",
   "metadata": {},
   "outputs": [],
   "source": []
  }
 ],
 "metadata": {
  "kernelspec": {
   "display_name": "Python 3 (ipykernel)",
   "language": "python",
   "name": "python3"
  },
  "language_info": {
   "codemirror_mode": {
    "name": "ipython",
    "version": 3
   },
   "file_extension": ".py",
   "mimetype": "text/x-python",
   "name": "python",
   "nbconvert_exporter": "python",
   "pygments_lexer": "ipython3",
   "version": "3.12.11"
  }
 },
 "nbformat": 4,
 "nbformat_minor": 5
}
