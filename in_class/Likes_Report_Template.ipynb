{
 "cells": [
  {
   "cell_type": "markdown",
   "id": "05dc0832",
   "metadata": {},
   "source": [
    "# Likes Report [Template] (Instagram Likes & Hypothesis)\n",
    "\n",
    "**Your Name:** _[Type here]_  \n",
    "**Date:** _[e.g., 2025-09-17]_  \n",
    "\n",
    "---\n",
    "\n",
    "## Section 1 - Introductory Questions (Answer in complete sentences)\n",
    "\n",
    "1. **Who or what is the source of your personal Instagram data?**  \n",
    "   _[Hint: You downloaded the data, but did you create it? Who collected it?]_\n",
    "\n",
    "2. **Why was this data created and what purposes can the data serve?**  \n",
    "   _[Consider platform features, personalization, ads, analytics, your research use, etc.]_\n",
    "\n",
    "3. **In what ways may this data be reliable?**  \n",
    "   _[Think consistency, system logs vs. self-reporting, timestamps, etc.]_\n",
    "\n",
    "4. **In what ways may this data be unreliable?**  \n",
    "   _[Think missingness, platform changes, export quirks, sampling bias, context loss, etc.]_\n",
    "\n",
    "> _Keep responses concise but thoughtful (2–5 sentences each)._\n"
   ]
  },
  {
   "cell_type": "markdown",
   "id": "b93610f1",
   "metadata": {},
   "source": [
    "---\n",
    "# Section 2 — Load Instagram Likes JSON\n",
    "_[We did this in-class]_\n",
    "### 2.1 File Path\n",
    "- Locate: `likes/liked_posts.json`\n",
    "- Confirm the file exists in your working directory.\n",
    "\n",
    "### 2.2 Load JSON (Code Cell)\n",
    "_Add your code in the next cell to open and load `liked_posts.json`._\n"
   ]
  },
  {
   "cell_type": "code",
   "execution_count": 1,
   "id": "4ce070ff",
   "metadata": {},
   "outputs": [],
   "source": [
    "# (intentionally left blank) — Load JSON for liked_posts\n",
    "# Your code here\n"
   ]
  },
  {
   "cell_type": "markdown",
   "id": "95cd0747",
   "metadata": {},
   "source": [
    "---\n",
    "# Section 3 — Build a Tidy DataFrame from Likes\n",
    "_[We did this in-class]_\n",
    "### 3.1 Inspect Raw Structure\n",
    "- Identify the top-level keys and nested structure.\n",
    "\n",
    "### 3.2 Select the Correct Element\n",
    "- **Goal:** Pass the most sensible list-like element to `pandas.DataFrame()`.\n",
    "\n",
    "### 3.3 Create the DataFrame (Code Cell)\n",
    "_Add your code in the next cell to convert the selected element into a DataFrame._\n",
    "\n"
   ]
  },
  {
   "cell_type": "code",
   "execution_count": 7,
   "id": "9740f68e",
   "metadata": {},
   "outputs": [],
   "source": [
    "# (intentionally left blank) — Build DataFrame & add timestamp column\n",
    "# Your code here\n"
   ]
  },
  {
   "cell_type": "markdown",
   "id": "6e881d63-0cdd-454f-9e8b-83daee8bdb9e",
   "metadata": {},
   "source": [
    "# Section 4 - Create a Timestamp Column\n",
    "_[We did this in-class]_\n",
    "- Extract or convert the like timestamp to a dedicated column.\n",
    "- Ensure it is a proper datetime type (if needed)."
   ]
  },
  {
   "cell_type": "markdown",
   "id": "33204b35",
   "metadata": {},
   "source": [
    "---\n",
    "# Section 5 — Summarize Likes by Account\n",
    "_[We did this in-class]_\n",
    "### 5.1 Group & Count\n",
    "- Use `groupby()` and `count()` to summarize likes per account/user.\n",
    "\n",
    "### 5.2 Display Results (Code Cell)\n",
    "_Add your code in the next cell to produce the summary._\n"
   ]
  },
  {
   "cell_type": "code",
   "execution_count": 3,
   "id": "45c12b51",
   "metadata": {},
   "outputs": [],
   "source": [
    "# (intentionally left blank) — Groupby summary by account\n",
    "# Your code here\n"
   ]
  },
  {
   "cell_type": "markdown",
   "id": "dce2c48b",
   "metadata": {},
   "source": [
    "---\n",
    "# Section 6 — Hypothesis Framing (Non-Likes Data)\n",
    "\n",
    "In a **Markdown** response below, write a testable hypothesis using some of your personal **Instagram, Facebook, or TikTok** data (other than the `likes` file).\n",
    "\n",
    "### 6.1 State Your Hypothesis\n",
    "- _Example structure:_ “Users tend to **X** on **Y days** compared to **Z days**.”\n",
    "\n",
    "### 6.2 Theoretical Elements\n",
    "- What theory or rationale motivates your expectation? (e.g., habit, algorithmic exposure, situational context)\n",
    "\n",
    "### 6.3 Statistical Elements\n",
    "- Identify the **variables**, **unit of analysis**, and **comparison**.\n",
    "- Suggest a basic statistical approach (e.g., group comparison, correlation, time-series trend).\n",
    "\n",
    "_Write your full response here:_\n"
   ]
  },
  {
   "cell_type": "markdown",
   "id": "8f22768b",
   "metadata": {},
   "source": [
    "---\n",
    "# Section 7 — Choose an Additional JSON File to Test Your Hypothesis\n",
    "\n",
    "### 7.1 File Selection\n",
    "- Identify a JSON file from your export that could help test your hypothesis.\n",
    "\n",
    "### 7.2 Why This File?\n",
    "- Explain what you think the file contains and how it will help test the hypothesis.\n",
    "\n",
    "_Write your reasoning here:_\n"
   ]
  },
  {
   "cell_type": "markdown",
   "id": "76cf893d",
   "metadata": {},
   "source": [
    "---\n",
    "# Section 8 — Load the Selected JSON File\n",
    "\n",
    "### 8.1 Load JSON (Code Cell)\n",
    "_Add your code in the next cell to open and load the chosen JSON file._\n"
   ]
  },
  {
   "cell_type": "code",
   "execution_count": 4,
   "id": "4cc8ff06",
   "metadata": {},
   "outputs": [],
   "source": [
    "# (intentionally left blank) — Load your selected JSON\n",
    "# Your code here\n"
   ]
  },
  {
   "cell_type": "markdown",
   "id": "71d366a4",
   "metadata": {},
   "source": [
    "---\n",
    "# Section 9 — Create the Most Tidy DataFrame Possible\n",
    "\n",
    "### 9.1 Explore Structure & Candidate Elements\n",
    "- Identify list-like elements suitable for DataFrame construction.\n",
    "\n",
    "### 9.2 Build the Tidy DataFrame (Code Cell)\n",
    "- Remember that **tidy data** has:\n",
    "  - Each variable in its own column\n",
    "  - Each observation in its own row\n",
    "  - Each type of observational unit in a separate table\n",
    "\n",
    "_Add your code in the next cell._\n"
   ]
  },
  {
   "cell_type": "code",
   "execution_count": 5,
   "id": "31030da1",
   "metadata": {},
   "outputs": [],
   "source": [
    "# (intentionally left blank) — Create tidy DataFrame from selected JSON\n",
    "# Your code here\n"
   ]
  },
  {
   "cell_type": "markdown",
   "id": "1c2ac41d",
   "metadata": {},
   "source": [
    "---\n",
    "# Section 10 — Interpretation & Tidy Assessment (Markdown)\n",
    "\n",
    "### 10.1 What Does the Data Represent?\n",
    "- Describe what you think each column and row corresponds to.\n",
    "\n",
    "### 10.2 Does This Meet Tidy Principles?\n",
    "- If not, what transformations would you recommend and why?\n",
    "\n",
    "### 10.3 Can This Data Test Your Hypothesis?\n",
    "- If yes, how?\n",
    "- If not, what’s missing or unclear?\n",
    "\n",
    "_There may not be a single right answer. Focus on clarity, what you understand, and what remains confusing._\n"
   ]
  },
  {
   "cell_type": "markdown",
   "id": "11580db4",
   "metadata": {},
   "source": [
    "---\n",
    "# Section 11 — Ethics & Privacy Checklist (Optional but Recommended)\n",
    "\n",
    "- [ ] Remove/obscure personally identifying info not needed for analysis.\n",
    "- [ ] Note any sensitive attributes and justify their use.\n",
    "- [ ] Consider biases in collection/export and how they affect interpretation.\n",
    "- [ ] Document any limitations or uncertainty in your findings.\n"
   ]
  },
  {
   "cell_type": "code",
   "execution_count": null,
   "id": "66093bb7-aa93-4fe2-9cc2-c42a69eacbd2",
   "metadata": {},
   "outputs": [],
   "source": []
  }
 ],
 "metadata": {
  "kernelspec": {
   "display_name": "Python 3 (ipykernel)",
   "language": "python",
   "name": "python3"
  },
  "language_info": {
   "codemirror_mode": {
    "name": "ipython",
    "version": 3
   },
   "file_extension": ".py",
   "mimetype": "text/x-python",
   "name": "python",
   "nbconvert_exporter": "python",
   "pygments_lexer": "ipython3",
   "version": "3.12.11"
  }
 },
 "nbformat": 4,
 "nbformat_minor": 5
}
