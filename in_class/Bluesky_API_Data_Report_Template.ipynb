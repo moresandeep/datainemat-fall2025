{
 "cells": [
  {
   "cell_type": "markdown",
   "id": "18a71019",
   "metadata": {},
   "source": [
    "# Section 1 — Report Header & Hypothesis\n",
    "\n",
    "**Report Title:** _Replace with your title_  \n",
    "**Your Name:** _Replace with your name_  \n",
    "**Date:** _2025-10-07_\n",
    "\n",
    "### Hypothesis\n",
    "Write one testable hypothesis that can be evaluated using data available via the Bluesky API.  \n",
    "_Example:_ “Accounts that post more frequently receive a higher average number of likes per post.”\n",
    "\n",
    "### Theoretical Rationale\n",
    "Explain the theory or reasoning behind your hypothesis. Cite any relevant concepts or readings.\n",
    "\n",
    "### Statistical Application\n",
    "Explain how your hypothesis could be tested statistically (e.g., group comparison, correlation). <br>\n",
    "What variables (columns) will you be using.\n",
    "\n",
    "\n",
    "> Tip: You do not need to fully execute the analysis now, but you should articulate how you would test it.\n"
   ]
  },
  {
   "cell_type": "markdown",
   "id": "bdab8729",
   "metadata": {},
   "source": [
    "# Section 2 — Endpoint Plan (Design Your Data Collection)\n",
    "\n",
    "Identify the **Bluesky API endpoints** you will use and why they are suitable for testing your hypothesis.  \n",
    "Link: https://docs.bsky.app/docs/category/http-reference\n",
    "\n",
    "**Planned endpoints (examples; replace with your own):**\n",
    "- `app.bsky.feed.searchPosts` — to collect posts matching a topic, hashtag, or keyword set.\n",
    "- `app.bsky.actor.getProfiles` — to enrich authors with profile metadata (e.g., displayName, followersCount).\n",
    "- `app.bsky.feed.getAuthorFeed` — to get posts authored by a specific actor (for longitudinal behavior).\n",
    "\n",
    "For **each endpoint**, specify:\n",
    "1. The key **request parameters** you will use. e.g. search query `q` for `app.bsky.feed.searchPosts`. User profile `did` for `app.bsky.actor.getProfiles`\n",
    "2. The **response objects/fields** you will extract. e.g. `posts` response in case of `app.bsky.feed.searchPosts`\n",
    "3. Why these fields map to the variables in your hypothesis.\n",
    "\n",
    "## Reliabilit and Bias \n",
    "Discuss how the data might be **reliable** and **unreliable**. Consider:\n",
    "- Missingness or unavailable fields; rate limits; unauthenticated vs authenticated access.\n",
    "- Bot/spam accounts, deleted posts, or moderation effects.\n",
    "- Ethical considerations and terms of service (collect only what you need; avoid sensitive data).\n",
    "\n",
    "## Limitations\n",
    "List any **caveats** in the response objects (e.g., fields not guaranteed, delayed counts, missing information) that could affect your analysis."
   ]
  },
  {
   "cell_type": "markdown",
   "id": "e6a3f846-874b-4069-a170-795741914fb5",
   "metadata": {},
   "source": [
    "# Section 3 Data Collection\n",
    "Collect posts that match a query. Adjust `QUERY`, `MAX_POSTS`, and any filters your hypothesis requires.\n"
   ]
  },
  {
   "cell_type": "markdown",
   "id": "f970a1d8-4d68-4863-9d87-e2b35c7591c2",
   "metadata": {},
   "source": [
    "## Data Collection (Endpoint 1): \n",
    "e.g. `app.bsky.feed.searchPosts`\n",
    "Flatten key fields from Bluesky PostView objects."
   ]
  },
  {
   "cell_type": "markdown",
   "id": "0a25e8b8",
   "metadata": {},
   "source": [
    "## Data Collection (Endpoint 2): \n",
    "\n",
    "e.g. `app.bsky.actor.getProfiles`\n",
    "- Enrich the post data with profile attributes (followers count, display name, etc.).  \n",
    "- We gather unique author identifiers (`did`) from the posts and request them in batches.\n",
    "- NOTE: Will this be a for loop?\n"
   ]
  },
  {
   "cell_type": "markdown",
   "id": "1908e9c3",
   "metadata": {},
   "source": [
    "# Section 4 — Build DataFrames\n",
    "\n",
    "Use a pandas method to combine your DataFrames. Use your own endpoints and dataframes. Adjust based on your plan:\n",
    "- **merge** on a key (`author_did`), or\n",
    "- **concat** to stack rows from multiple endpoints, or\n",
    "- **join** to add columns using an index.\n",
    "- **Wrangling** (select, clean, sort)\n",
    "\n",
    "  \n"
   ]
  },
  {
   "cell_type": "markdown",
   "id": "88fce915",
   "metadata": {},
   "source": [
    "# Section 5 — Conclusion\n",
    "\n",
    "Describe any patterns you observe in the collected data and how they relate to your hypothesis. <br>\n",
    "Describe challenges you faced.\n"
   ]
  },
  {
   "cell_type": "code",
   "execution_count": null,
   "id": "13eab174-3afa-4e9c-a753-7fd2996a5045",
   "metadata": {},
   "outputs": [],
   "source": []
  }
 ],
 "metadata": {
  "kernelspec": {
   "display_name": "Python 3 (ipykernel)",
   "language": "python",
   "name": "python3"
  },
  "language_info": {
   "codemirror_mode": {
    "name": "ipython",
    "version": 3
   },
   "file_extension": ".py",
   "mimetype": "text/x-python",
   "name": "python",
   "nbconvert_exporter": "python",
   "pygments_lexer": "ipython3",
   "version": "3.12.11"
  }
 },
 "nbformat": 4,
 "nbformat_minor": 5
}
